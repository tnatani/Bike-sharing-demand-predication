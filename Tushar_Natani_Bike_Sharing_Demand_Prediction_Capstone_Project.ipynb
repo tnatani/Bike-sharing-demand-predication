{
  "nbformat": 4,
  "nbformat_minor": 0,
  "metadata": {
    "kernelspec": {
      "display_name": "Python 3",
      "language": "python",
      "name": "python3"
    },
    "language_info": {
      "codemirror_mode": {
        "name": "ipython",
        "version": 3
      },
      "file_extension": ".py",
      "mimetype": "text/x-python",
      "name": "python",
      "nbconvert_exporter": "python",
      "pygments_lexer": "ipython3",
      "version": "3.6.6"
    },
    "colab": {
      "name": "Tushar Natani Bike Sharing Demand Prediction - Capstone Project.ipynb",
      "provenance": [],
      "collapsed_sections": [],
      "include_colab_link": true
    }
  },
  "cells": [
    {
      "cell_type": "markdown",
      "metadata": {
        "id": "view-in-github",
        "colab_type": "text"
      },
      "source": [
        "<a href=\"https://colab.research.google.com/github/tnatani/Bike-sharing-demand-predication/blob/main/Tushar_Natani_Bike_Sharing_Demand_Prediction_Capstone_Project.ipynb\" target=\"_parent\"><img src=\"https://colab.research.google.com/assets/colab-badge.svg\" alt=\"Open In Colab\"/></a>"
      ]
    },
    {
      "cell_type": "markdown",
      "metadata": {
        "id": "tOGC-qoyhJeX"
      },
      "source": [
        "# <b><u> Project Title : Seoul Bike Sharing Demand Prediction </u></b>"
      ]
    },
    {
      "cell_type": "markdown",
      "metadata": {
        "id": "Y06xIdG26kRF"
      },
      "source": [
        "## <b> Problem Description </b>\n",
        "\n",
        "### Currently Rental bikes are introduced in many urban cities for the enhancement of mobility comfort. It is important to make the rental bike available and accessible to the public at the right time as it lessens the waiting time. Eventually, providing the city with a stable supply of rental bikes becomes a major concern. The crucial part is the prediction of bike count required at each hour for the stable supply of rental bikes.\n"
      ]
    },
    {
      "cell_type": "markdown",
      "metadata": {
        "id": "AlLxAtlziMbP"
      },
      "source": [
        "## <b> Data Description </b>\n",
        "\n",
        "### <b> The dataset contains weather information (Temperature, Humidity, Windspeed, Visibility, Dewpoint, Solar radiation, Snowfall, Rainfall), the number of bikes rented per hour and date information.</b>\n",
        "\n",
        "\n",
        "### <b>Attribute Information: </b>\n",
        "\n",
        "* ### Date : year-month-day\n",
        "* ### Rented Bike count - Count of bikes rented at each hour\n",
        "* ### Hour - Hour of he day\n",
        "* ### Temperature-Temperature in Celsius\n",
        "* ### Humidity - %\n",
        "* ### Windspeed - m/s\n",
        "* ### Visibility - 10m\n",
        "* ### Dew point temperature - Celsius\n",
        "* ### Solar radiation - MJ/m2\n",
        "* ### Rainfall - mm\n",
        "* ### Snowfall - cm\n",
        "* ### Seasons - Winter, Spring, Summer, Autumn\n",
        "* ### Holiday - Holiday/No holiday\n",
        "* ### Functional Day - NoFunc(Non Functional Hours), Fun(Functional hours)"
      ]
    },
    {
      "cell_type": "code",
      "metadata": {
        "id": "dByMsuzT8Tnw"
      },
      "source": [
        "import pandas as pd\n",
        "import numpy as np\n",
        "from matplotlib import pyplot as plt\n",
        "import seaborn as sns\n",
        "\n",
        "import warnings\n",
        "warnings.filterwarnings('ignore')\n",
        "\n",
        "%matplotlib inline"
      ],
      "execution_count": 8,
      "outputs": []
    },
    {
      "cell_type": "markdown",
      "source": [
        "**Loading dataset and having first view**"
      ],
      "metadata": {
        "id": "ZQthLW8gm_YF"
      }
    },
    {
      "cell_type": "code",
      "source": [
        "# MOUNTING THE GOOGLE DRIVE\n",
        "\n",
        "from google.colab import drive\n",
        "drive.mount('/content/drive')"
      ],
      "metadata": {
        "id": "k4mi_eYNnFHF",
        "colab": {
          "base_uri": "https://localhost:8080/"
        },
        "outputId": "c295a149-2956-4c6d-d651-2844f6874332"
      },
      "execution_count": 9,
      "outputs": [
        {
          "output_type": "stream",
          "name": "stdout",
          "text": [
            "Drive already mounted at /content/drive; to attempt to forcibly remount, call drive.mount(\"/content/drive\", force_remount=True).\n"
          ]
        }
      ]
    },
    {
      "cell_type": "code",
      "source": [
        "# LOADING THE DATA\n",
        "# SETTING ENCODING AS UNICODE_ESCAPE BECAUSE IT GIVES UTF-8 ENCODING ERROR\n",
        "\n",
        "df = pd.read_csv(r'//content/SeoulBikeData.csv', encoding = 'unicode_escape')\n"
      ],
      "metadata": {
        "id": "RuQq9bvpoFws"
      },
      "execution_count": 11,
      "outputs": []
    },
    {
      "cell_type": "code",
      "source": [
        "df.head()"
      ],
      "metadata": {
        "colab": {
          "base_uri": "https://localhost:8080/",
          "height": 372
        },
        "id": "q3omi1JRpWCr",
        "outputId": "f4d1be64-2b6d-45e5-e84f-0f5f4b21bca6"
      },
      "execution_count": 12,
      "outputs": [
        {
          "output_type": "execute_result",
          "data": {
            "text/plain": [
              "         Date  Rented Bike Count  Hour  Temperature(°C)  Humidity(%)  \\\n",
              "0  01/12/2017                254     0             -5.2           37   \n",
              "1  01/12/2017                204     1             -5.5           38   \n",
              "2  01/12/2017                173     2             -6.0           39   \n",
              "3  01/12/2017                107     3             -6.2           40   \n",
              "4  01/12/2017                 78     4             -6.0           36   \n",
              "\n",
              "   Wind speed (m/s)  Visibility (10m)  Dew point temperature(°C)  \\\n",
              "0               2.2              2000                      -17.6   \n",
              "1               0.8              2000                      -17.6   \n",
              "2               1.0              2000                      -17.7   \n",
              "3               0.9              2000                      -17.6   \n",
              "4               2.3              2000                      -18.6   \n",
              "\n",
              "   Solar Radiation (MJ/m2)  Rainfall(mm)  Snowfall (cm) Seasons     Holiday  \\\n",
              "0                      0.0           0.0            0.0  Winter  No Holiday   \n",
              "1                      0.0           0.0            0.0  Winter  No Holiday   \n",
              "2                      0.0           0.0            0.0  Winter  No Holiday   \n",
              "3                      0.0           0.0            0.0  Winter  No Holiday   \n",
              "4                      0.0           0.0            0.0  Winter  No Holiday   \n",
              "\n",
              "  Functioning Day  \n",
              "0             Yes  \n",
              "1             Yes  \n",
              "2             Yes  \n",
              "3             Yes  \n",
              "4             Yes  "
            ],
            "text/html": [
              "\n",
              "  <div id=\"df-fb120cd9-c440-4c8f-b393-11884c45bf68\">\n",
              "    <div class=\"colab-df-container\">\n",
              "      <div>\n",
              "<style scoped>\n",
              "    .dataframe tbody tr th:only-of-type {\n",
              "        vertical-align: middle;\n",
              "    }\n",
              "\n",
              "    .dataframe tbody tr th {\n",
              "        vertical-align: top;\n",
              "    }\n",
              "\n",
              "    .dataframe thead th {\n",
              "        text-align: right;\n",
              "    }\n",
              "</style>\n",
              "<table border=\"1\" class=\"dataframe\">\n",
              "  <thead>\n",
              "    <tr style=\"text-align: right;\">\n",
              "      <th></th>\n",
              "      <th>Date</th>\n",
              "      <th>Rented Bike Count</th>\n",
              "      <th>Hour</th>\n",
              "      <th>Temperature(°C)</th>\n",
              "      <th>Humidity(%)</th>\n",
              "      <th>Wind speed (m/s)</th>\n",
              "      <th>Visibility (10m)</th>\n",
              "      <th>Dew point temperature(°C)</th>\n",
              "      <th>Solar Radiation (MJ/m2)</th>\n",
              "      <th>Rainfall(mm)</th>\n",
              "      <th>Snowfall (cm)</th>\n",
              "      <th>Seasons</th>\n",
              "      <th>Holiday</th>\n",
              "      <th>Functioning Day</th>\n",
              "    </tr>\n",
              "  </thead>\n",
              "  <tbody>\n",
              "    <tr>\n",
              "      <th>0</th>\n",
              "      <td>01/12/2017</td>\n",
              "      <td>254</td>\n",
              "      <td>0</td>\n",
              "      <td>-5.2</td>\n",
              "      <td>37</td>\n",
              "      <td>2.2</td>\n",
              "      <td>2000</td>\n",
              "      <td>-17.6</td>\n",
              "      <td>0.0</td>\n",
              "      <td>0.0</td>\n",
              "      <td>0.0</td>\n",
              "      <td>Winter</td>\n",
              "      <td>No Holiday</td>\n",
              "      <td>Yes</td>\n",
              "    </tr>\n",
              "    <tr>\n",
              "      <th>1</th>\n",
              "      <td>01/12/2017</td>\n",
              "      <td>204</td>\n",
              "      <td>1</td>\n",
              "      <td>-5.5</td>\n",
              "      <td>38</td>\n",
              "      <td>0.8</td>\n",
              "      <td>2000</td>\n",
              "      <td>-17.6</td>\n",
              "      <td>0.0</td>\n",
              "      <td>0.0</td>\n",
              "      <td>0.0</td>\n",
              "      <td>Winter</td>\n",
              "      <td>No Holiday</td>\n",
              "      <td>Yes</td>\n",
              "    </tr>\n",
              "    <tr>\n",
              "      <th>2</th>\n",
              "      <td>01/12/2017</td>\n",
              "      <td>173</td>\n",
              "      <td>2</td>\n",
              "      <td>-6.0</td>\n",
              "      <td>39</td>\n",
              "      <td>1.0</td>\n",
              "      <td>2000</td>\n",
              "      <td>-17.7</td>\n",
              "      <td>0.0</td>\n",
              "      <td>0.0</td>\n",
              "      <td>0.0</td>\n",
              "      <td>Winter</td>\n",
              "      <td>No Holiday</td>\n",
              "      <td>Yes</td>\n",
              "    </tr>\n",
              "    <tr>\n",
              "      <th>3</th>\n",
              "      <td>01/12/2017</td>\n",
              "      <td>107</td>\n",
              "      <td>3</td>\n",
              "      <td>-6.2</td>\n",
              "      <td>40</td>\n",
              "      <td>0.9</td>\n",
              "      <td>2000</td>\n",
              "      <td>-17.6</td>\n",
              "      <td>0.0</td>\n",
              "      <td>0.0</td>\n",
              "      <td>0.0</td>\n",
              "      <td>Winter</td>\n",
              "      <td>No Holiday</td>\n",
              "      <td>Yes</td>\n",
              "    </tr>\n",
              "    <tr>\n",
              "      <th>4</th>\n",
              "      <td>01/12/2017</td>\n",
              "      <td>78</td>\n",
              "      <td>4</td>\n",
              "      <td>-6.0</td>\n",
              "      <td>36</td>\n",
              "      <td>2.3</td>\n",
              "      <td>2000</td>\n",
              "      <td>-18.6</td>\n",
              "      <td>0.0</td>\n",
              "      <td>0.0</td>\n",
              "      <td>0.0</td>\n",
              "      <td>Winter</td>\n",
              "      <td>No Holiday</td>\n",
              "      <td>Yes</td>\n",
              "    </tr>\n",
              "  </tbody>\n",
              "</table>\n",
              "</div>\n",
              "      <button class=\"colab-df-convert\" onclick=\"convertToInteractive('df-fb120cd9-c440-4c8f-b393-11884c45bf68')\"\n",
              "              title=\"Convert this dataframe to an interactive table.\"\n",
              "              style=\"display:none;\">\n",
              "        \n",
              "  <svg xmlns=\"http://www.w3.org/2000/svg\" height=\"24px\"viewBox=\"0 0 24 24\"\n",
              "       width=\"24px\">\n",
              "    <path d=\"M0 0h24v24H0V0z\" fill=\"none\"/>\n",
              "    <path d=\"M18.56 5.44l.94 2.06.94-2.06 2.06-.94-2.06-.94-.94-2.06-.94 2.06-2.06.94zm-11 1L8.5 8.5l.94-2.06 2.06-.94-2.06-.94L8.5 2.5l-.94 2.06-2.06.94zm10 10l.94 2.06.94-2.06 2.06-.94-2.06-.94-.94-2.06-.94 2.06-2.06.94z\"/><path d=\"M17.41 7.96l-1.37-1.37c-.4-.4-.92-.59-1.43-.59-.52 0-1.04.2-1.43.59L10.3 9.45l-7.72 7.72c-.78.78-.78 2.05 0 2.83L4 21.41c.39.39.9.59 1.41.59.51 0 1.02-.2 1.41-.59l7.78-7.78 2.81-2.81c.8-.78.8-2.07 0-2.86zM5.41 20L4 18.59l7.72-7.72 1.47 1.35L5.41 20z\"/>\n",
              "  </svg>\n",
              "      </button>\n",
              "      \n",
              "  <style>\n",
              "    .colab-df-container {\n",
              "      display:flex;\n",
              "      flex-wrap:wrap;\n",
              "      gap: 12px;\n",
              "    }\n",
              "\n",
              "    .colab-df-convert {\n",
              "      background-color: #E8F0FE;\n",
              "      border: none;\n",
              "      border-radius: 50%;\n",
              "      cursor: pointer;\n",
              "      display: none;\n",
              "      fill: #1967D2;\n",
              "      height: 32px;\n",
              "      padding: 0 0 0 0;\n",
              "      width: 32px;\n",
              "    }\n",
              "\n",
              "    .colab-df-convert:hover {\n",
              "      background-color: #E2EBFA;\n",
              "      box-shadow: 0px 1px 2px rgba(60, 64, 67, 0.3), 0px 1px 3px 1px rgba(60, 64, 67, 0.15);\n",
              "      fill: #174EA6;\n",
              "    }\n",
              "\n",
              "    [theme=dark] .colab-df-convert {\n",
              "      background-color: #3B4455;\n",
              "      fill: #D2E3FC;\n",
              "    }\n",
              "\n",
              "    [theme=dark] .colab-df-convert:hover {\n",
              "      background-color: #434B5C;\n",
              "      box-shadow: 0px 1px 3px 1px rgba(0, 0, 0, 0.15);\n",
              "      filter: drop-shadow(0px 1px 2px rgba(0, 0, 0, 0.3));\n",
              "      fill: #FFFFFF;\n",
              "    }\n",
              "  </style>\n",
              "\n",
              "      <script>\n",
              "        const buttonEl =\n",
              "          document.querySelector('#df-fb120cd9-c440-4c8f-b393-11884c45bf68 button.colab-df-convert');\n",
              "        buttonEl.style.display =\n",
              "          google.colab.kernel.accessAllowed ? 'block' : 'none';\n",
              "\n",
              "        async function convertToInteractive(key) {\n",
              "          const element = document.querySelector('#df-fb120cd9-c440-4c8f-b393-11884c45bf68');\n",
              "          const dataTable =\n",
              "            await google.colab.kernel.invokeFunction('convertToInteractive',\n",
              "                                                     [key], {});\n",
              "          if (!dataTable) return;\n",
              "\n",
              "          const docLinkHtml = 'Like what you see? Visit the ' +\n",
              "            '<a target=\"_blank\" href=https://colab.research.google.com/notebooks/data_table.ipynb>data table notebook</a>'\n",
              "            + ' to learn more about interactive tables.';\n",
              "          element.innerHTML = '';\n",
              "          dataTable['output_type'] = 'display_data';\n",
              "          await google.colab.output.renderOutput(dataTable, element);\n",
              "          const docLink = document.createElement('div');\n",
              "          docLink.innerHTML = docLinkHtml;\n",
              "          element.appendChild(docLink);\n",
              "        }\n",
              "      </script>\n",
              "    </div>\n",
              "  </div>\n",
              "  "
            ]
          },
          "metadata": {},
          "execution_count": 12
        }
      ]
    },
    {
      "cell_type": "code",
      "source": [
        "df.tail()"
      ],
      "metadata": {
        "colab": {
          "base_uri": "https://localhost:8080/",
          "height": 372
        },
        "id": "J-f62Rl1pXKm",
        "outputId": "59dbc871-4317-4568-fc69-e21de30312e3"
      },
      "execution_count": 13,
      "outputs": [
        {
          "output_type": "execute_result",
          "data": {
            "text/plain": [
              "            Date  Rented Bike Count  Hour  Temperature(°C)  Humidity(%)  \\\n",
              "8755  30/11/2018               1003    19              4.2           34   \n",
              "8756  30/11/2018                764    20              3.4           37   \n",
              "8757  30/11/2018                694    21              2.6           39   \n",
              "8758  30/11/2018                712    22              2.1           41   \n",
              "8759  30/11/2018                584    23              1.9           43   \n",
              "\n",
              "      Wind speed (m/s)  Visibility (10m)  Dew point temperature(°C)  \\\n",
              "8755               2.6              1894                      -10.3   \n",
              "8756               2.3              2000                       -9.9   \n",
              "8757               0.3              1968                       -9.9   \n",
              "8758               1.0              1859                       -9.8   \n",
              "8759               1.3              1909                       -9.3   \n",
              "\n",
              "      Solar Radiation (MJ/m2)  Rainfall(mm)  Snowfall (cm) Seasons  \\\n",
              "8755                      0.0           0.0            0.0  Autumn   \n",
              "8756                      0.0           0.0            0.0  Autumn   \n",
              "8757                      0.0           0.0            0.0  Autumn   \n",
              "8758                      0.0           0.0            0.0  Autumn   \n",
              "8759                      0.0           0.0            0.0  Autumn   \n",
              "\n",
              "         Holiday Functioning Day  \n",
              "8755  No Holiday             Yes  \n",
              "8756  No Holiday             Yes  \n",
              "8757  No Holiday             Yes  \n",
              "8758  No Holiday             Yes  \n",
              "8759  No Holiday             Yes  "
            ],
            "text/html": [
              "\n",
              "  <div id=\"df-1b06dbfb-f6a7-4eb7-8848-5cd22e41d660\">\n",
              "    <div class=\"colab-df-container\">\n",
              "      <div>\n",
              "<style scoped>\n",
              "    .dataframe tbody tr th:only-of-type {\n",
              "        vertical-align: middle;\n",
              "    }\n",
              "\n",
              "    .dataframe tbody tr th {\n",
              "        vertical-align: top;\n",
              "    }\n",
              "\n",
              "    .dataframe thead th {\n",
              "        text-align: right;\n",
              "    }\n",
              "</style>\n",
              "<table border=\"1\" class=\"dataframe\">\n",
              "  <thead>\n",
              "    <tr style=\"text-align: right;\">\n",
              "      <th></th>\n",
              "      <th>Date</th>\n",
              "      <th>Rented Bike Count</th>\n",
              "      <th>Hour</th>\n",
              "      <th>Temperature(°C)</th>\n",
              "      <th>Humidity(%)</th>\n",
              "      <th>Wind speed (m/s)</th>\n",
              "      <th>Visibility (10m)</th>\n",
              "      <th>Dew point temperature(°C)</th>\n",
              "      <th>Solar Radiation (MJ/m2)</th>\n",
              "      <th>Rainfall(mm)</th>\n",
              "      <th>Snowfall (cm)</th>\n",
              "      <th>Seasons</th>\n",
              "      <th>Holiday</th>\n",
              "      <th>Functioning Day</th>\n",
              "    </tr>\n",
              "  </thead>\n",
              "  <tbody>\n",
              "    <tr>\n",
              "      <th>8755</th>\n",
              "      <td>30/11/2018</td>\n",
              "      <td>1003</td>\n",
              "      <td>19</td>\n",
              "      <td>4.2</td>\n",
              "      <td>34</td>\n",
              "      <td>2.6</td>\n",
              "      <td>1894</td>\n",
              "      <td>-10.3</td>\n",
              "      <td>0.0</td>\n",
              "      <td>0.0</td>\n",
              "      <td>0.0</td>\n",
              "      <td>Autumn</td>\n",
              "      <td>No Holiday</td>\n",
              "      <td>Yes</td>\n",
              "    </tr>\n",
              "    <tr>\n",
              "      <th>8756</th>\n",
              "      <td>30/11/2018</td>\n",
              "      <td>764</td>\n",
              "      <td>20</td>\n",
              "      <td>3.4</td>\n",
              "      <td>37</td>\n",
              "      <td>2.3</td>\n",
              "      <td>2000</td>\n",
              "      <td>-9.9</td>\n",
              "      <td>0.0</td>\n",
              "      <td>0.0</td>\n",
              "      <td>0.0</td>\n",
              "      <td>Autumn</td>\n",
              "      <td>No Holiday</td>\n",
              "      <td>Yes</td>\n",
              "    </tr>\n",
              "    <tr>\n",
              "      <th>8757</th>\n",
              "      <td>30/11/2018</td>\n",
              "      <td>694</td>\n",
              "      <td>21</td>\n",
              "      <td>2.6</td>\n",
              "      <td>39</td>\n",
              "      <td>0.3</td>\n",
              "      <td>1968</td>\n",
              "      <td>-9.9</td>\n",
              "      <td>0.0</td>\n",
              "      <td>0.0</td>\n",
              "      <td>0.0</td>\n",
              "      <td>Autumn</td>\n",
              "      <td>No Holiday</td>\n",
              "      <td>Yes</td>\n",
              "    </tr>\n",
              "    <tr>\n",
              "      <th>8758</th>\n",
              "      <td>30/11/2018</td>\n",
              "      <td>712</td>\n",
              "      <td>22</td>\n",
              "      <td>2.1</td>\n",
              "      <td>41</td>\n",
              "      <td>1.0</td>\n",
              "      <td>1859</td>\n",
              "      <td>-9.8</td>\n",
              "      <td>0.0</td>\n",
              "      <td>0.0</td>\n",
              "      <td>0.0</td>\n",
              "      <td>Autumn</td>\n",
              "      <td>No Holiday</td>\n",
              "      <td>Yes</td>\n",
              "    </tr>\n",
              "    <tr>\n",
              "      <th>8759</th>\n",
              "      <td>30/11/2018</td>\n",
              "      <td>584</td>\n",
              "      <td>23</td>\n",
              "      <td>1.9</td>\n",
              "      <td>43</td>\n",
              "      <td>1.3</td>\n",
              "      <td>1909</td>\n",
              "      <td>-9.3</td>\n",
              "      <td>0.0</td>\n",
              "      <td>0.0</td>\n",
              "      <td>0.0</td>\n",
              "      <td>Autumn</td>\n",
              "      <td>No Holiday</td>\n",
              "      <td>Yes</td>\n",
              "    </tr>\n",
              "  </tbody>\n",
              "</table>\n",
              "</div>\n",
              "      <button class=\"colab-df-convert\" onclick=\"convertToInteractive('df-1b06dbfb-f6a7-4eb7-8848-5cd22e41d660')\"\n",
              "              title=\"Convert this dataframe to an interactive table.\"\n",
              "              style=\"display:none;\">\n",
              "        \n",
              "  <svg xmlns=\"http://www.w3.org/2000/svg\" height=\"24px\"viewBox=\"0 0 24 24\"\n",
              "       width=\"24px\">\n",
              "    <path d=\"M0 0h24v24H0V0z\" fill=\"none\"/>\n",
              "    <path d=\"M18.56 5.44l.94 2.06.94-2.06 2.06-.94-2.06-.94-.94-2.06-.94 2.06-2.06.94zm-11 1L8.5 8.5l.94-2.06 2.06-.94-2.06-.94L8.5 2.5l-.94 2.06-2.06.94zm10 10l.94 2.06.94-2.06 2.06-.94-2.06-.94-.94-2.06-.94 2.06-2.06.94z\"/><path d=\"M17.41 7.96l-1.37-1.37c-.4-.4-.92-.59-1.43-.59-.52 0-1.04.2-1.43.59L10.3 9.45l-7.72 7.72c-.78.78-.78 2.05 0 2.83L4 21.41c.39.39.9.59 1.41.59.51 0 1.02-.2 1.41-.59l7.78-7.78 2.81-2.81c.8-.78.8-2.07 0-2.86zM5.41 20L4 18.59l7.72-7.72 1.47 1.35L5.41 20z\"/>\n",
              "  </svg>\n",
              "      </button>\n",
              "      \n",
              "  <style>\n",
              "    .colab-df-container {\n",
              "      display:flex;\n",
              "      flex-wrap:wrap;\n",
              "      gap: 12px;\n",
              "    }\n",
              "\n",
              "    .colab-df-convert {\n",
              "      background-color: #E8F0FE;\n",
              "      border: none;\n",
              "      border-radius: 50%;\n",
              "      cursor: pointer;\n",
              "      display: none;\n",
              "      fill: #1967D2;\n",
              "      height: 32px;\n",
              "      padding: 0 0 0 0;\n",
              "      width: 32px;\n",
              "    }\n",
              "\n",
              "    .colab-df-convert:hover {\n",
              "      background-color: #E2EBFA;\n",
              "      box-shadow: 0px 1px 2px rgba(60, 64, 67, 0.3), 0px 1px 3px 1px rgba(60, 64, 67, 0.15);\n",
              "      fill: #174EA6;\n",
              "    }\n",
              "\n",
              "    [theme=dark] .colab-df-convert {\n",
              "      background-color: #3B4455;\n",
              "      fill: #D2E3FC;\n",
              "    }\n",
              "\n",
              "    [theme=dark] .colab-df-convert:hover {\n",
              "      background-color: #434B5C;\n",
              "      box-shadow: 0px 1px 3px 1px rgba(0, 0, 0, 0.15);\n",
              "      filter: drop-shadow(0px 1px 2px rgba(0, 0, 0, 0.3));\n",
              "      fill: #FFFFFF;\n",
              "    }\n",
              "  </style>\n",
              "\n",
              "      <script>\n",
              "        const buttonEl =\n",
              "          document.querySelector('#df-1b06dbfb-f6a7-4eb7-8848-5cd22e41d660 button.colab-df-convert');\n",
              "        buttonEl.style.display =\n",
              "          google.colab.kernel.accessAllowed ? 'block' : 'none';\n",
              "\n",
              "        async function convertToInteractive(key) {\n",
              "          const element = document.querySelector('#df-1b06dbfb-f6a7-4eb7-8848-5cd22e41d660');\n",
              "          const dataTable =\n",
              "            await google.colab.kernel.invokeFunction('convertToInteractive',\n",
              "                                                     [key], {});\n",
              "          if (!dataTable) return;\n",
              "\n",
              "          const docLinkHtml = 'Like what you see? Visit the ' +\n",
              "            '<a target=\"_blank\" href=https://colab.research.google.com/notebooks/data_table.ipynb>data table notebook</a>'\n",
              "            + ' to learn more about interactive tables.';\n",
              "          element.innerHTML = '';\n",
              "          dataTable['output_type'] = 'display_data';\n",
              "          await google.colab.output.renderOutput(dataTable, element);\n",
              "          const docLink = document.createElement('div');\n",
              "          docLink.innerHTML = docLinkHtml;\n",
              "          element.appendChild(docLink);\n",
              "        }\n",
              "      </script>\n",
              "    </div>\n",
              "  </div>\n",
              "  "
            ]
          },
          "metadata": {},
          "execution_count": 13
        }
      ]
    },
    {
      "cell_type": "markdown",
      "source": [
        "**Exploratory Data Analysis and Data Preprocessing**"
      ],
      "metadata": {
        "id": "YeIrYRNmqDWa"
      }
    },
    {
      "cell_type": "code",
      "source": [
        "# CHECKING THE SHAPE OF OUR DATASET\n",
        "\n",
        "df.shape"
      ],
      "metadata": {
        "colab": {
          "base_uri": "https://localhost:8080/"
        },
        "id": "6fK3fm-nqdVK",
        "outputId": "caa92f89-4a7a-48a2-c0c7-c92a95a33ddc"
      },
      "execution_count": 14,
      "outputs": [
        {
          "output_type": "execute_result",
          "data": {
            "text/plain": [
              "(8760, 14)"
            ]
          },
          "metadata": {},
          "execution_count": 14
        }
      ]
    },
    {
      "cell_type": "markdown",
      "source": [
        "**Observations:**\n",
        "\n",
        "1.The data contains 8760 rows and 14 columns.\n",
        "2.The dataset the data of one year on daily basis from 1/12/2017 to 30/11/2018 i.e., 365 days each hour.\n",
        "1 day = 24 hours and 1 year = 365 days. So, 1 year = 8,760 rows of data."
      ],
      "metadata": {
        "id": "QRunUtSgqhIS"
      }
    },
    {
      "cell_type": "code",
      "source": [
        "# CHECKING FOR NULL VALUES AS WELL AS DATATYPES\n",
        "\n",
        "df.info()"
      ],
      "metadata": {
        "colab": {
          "base_uri": "https://localhost:8080/"
        },
        "id": "INf_KMmMqoOV",
        "outputId": "b2cc4b69-cfa4-477a-84e1-23c6f7d75e71"
      },
      "execution_count": 15,
      "outputs": [
        {
          "output_type": "stream",
          "name": "stdout",
          "text": [
            "<class 'pandas.core.frame.DataFrame'>\n",
            "RangeIndex: 8760 entries, 0 to 8759\n",
            "Data columns (total 14 columns):\n",
            " #   Column                     Non-Null Count  Dtype  \n",
            "---  ------                     --------------  -----  \n",
            " 0   Date                       8760 non-null   object \n",
            " 1   Rented Bike Count          8760 non-null   int64  \n",
            " 2   Hour                       8760 non-null   int64  \n",
            " 3   Temperature(°C)            8760 non-null   float64\n",
            " 4   Humidity(%)                8760 non-null   int64  \n",
            " 5   Wind speed (m/s)           8760 non-null   float64\n",
            " 6   Visibility (10m)           8760 non-null   int64  \n",
            " 7   Dew point temperature(°C)  8760 non-null   float64\n",
            " 8   Solar Radiation (MJ/m2)    8760 non-null   float64\n",
            " 9   Rainfall(mm)               8760 non-null   float64\n",
            " 10  Snowfall (cm)              8760 non-null   float64\n",
            " 11  Seasons                    8760 non-null   object \n",
            " 12  Holiday                    8760 non-null   object \n",
            " 13  Functioning Day            8760 non-null   object \n",
            "dtypes: float64(6), int64(4), object(4)\n",
            "memory usage: 958.2+ KB\n"
          ]
        }
      ]
    },
    {
      "cell_type": "markdown",
      "source": [
        "**Observations:**\n",
        "\n",
        "1.There are no null values.\n",
        "\n",
        "2.There are 10 numerical columns and 4 categorical columns.\n",
        "\n",
        "3.'Date' column is of 'object' data type."
      ],
      "metadata": {
        "id": "ATjUR60Pq9Pt"
      }
    },
    {
      "cell_type": "code",
      "source": [
        "df.isna().sum()"
      ],
      "metadata": {
        "colab": {
          "base_uri": "https://localhost:8080/"
        },
        "id": "uOU0Wc4-rLiA",
        "outputId": "243a86b7-3f56-4b47-f9a1-6460dd19e202"
      },
      "execution_count": 16,
      "outputs": [
        {
          "output_type": "execute_result",
          "data": {
            "text/plain": [
              "Date                         0\n",
              "Rented Bike Count            0\n",
              "Hour                         0\n",
              "Temperature(°C)              0\n",
              "Humidity(%)                  0\n",
              "Wind speed (m/s)             0\n",
              "Visibility (10m)             0\n",
              "Dew point temperature(°C)    0\n",
              "Solar Radiation (MJ/m2)      0\n",
              "Rainfall(mm)                 0\n",
              "Snowfall (cm)                0\n",
              "Seasons                      0\n",
              "Holiday                      0\n",
              "Functioning Day              0\n",
              "dtype: int64"
            ]
          },
          "metadata": {},
          "execution_count": 16
        }
      ]
    },
    {
      "cell_type": "markdown",
      "source": [
        "With this, we can say that there are no null values present in our dataset."
      ],
      "metadata": {
        "id": "xV6lRoD0rPw-"
      }
    },
    {
      "cell_type": "code",
      "source": [
        "# CONVERTING THE DATA TYPE OF 'DATE' COLUMN FROM 'OBJECT' TO 'DATE'\n",
        "\n",
        "df['Date'] = pd.to_datetime(df['Date'], format = '%d/%m/%Y')\n",
        "df['Date'][:6]"
      ],
      "metadata": {
        "colab": {
          "base_uri": "https://localhost:8080/"
        },
        "id": "zR3xeLlfsHeZ",
        "outputId": "70053586-26c6-4f12-bad7-749d8f29d13a"
      },
      "execution_count": 17,
      "outputs": [
        {
          "output_type": "execute_result",
          "data": {
            "text/plain": [
              "0   2017-12-01\n",
              "1   2017-12-01\n",
              "2   2017-12-01\n",
              "3   2017-12-01\n",
              "4   2017-12-01\n",
              "5   2017-12-01\n",
              "Name: Date, dtype: datetime64[ns]"
            ]
          },
          "metadata": {},
          "execution_count": 17
        }
      ]
    },
    {
      "cell_type": "code",
      "source": [
        "# CHECKING FOR THE STATISTICAL VALUES\n",
        "\n",
        "df.describe().T"
      ],
      "metadata": {
        "colab": {
          "base_uri": "https://localhost:8080/",
          "height": 363
        },
        "id": "_6sTCOM0sKLo",
        "outputId": "80798ab8-eb7e-4074-e131-e589eb1e3c41"
      },
      "execution_count": 18,
      "outputs": [
        {
          "output_type": "execute_result",
          "data": {
            "text/plain": [
              "                            count         mean         std   min     25%  \\\n",
              "Rented Bike Count          8760.0   704.602055  644.997468   0.0  191.00   \n",
              "Hour                       8760.0    11.500000    6.922582   0.0    5.75   \n",
              "Temperature(°C)            8760.0    12.882922   11.944825 -17.8    3.50   \n",
              "Humidity(%)                8760.0    58.226256   20.362413   0.0   42.00   \n",
              "Wind speed (m/s)           8760.0     1.724909    1.036300   0.0    0.90   \n",
              "Visibility (10m)           8760.0  1436.825799  608.298712  27.0  940.00   \n",
              "Dew point temperature(°C)  8760.0     4.073813   13.060369 -30.6   -4.70   \n",
              "Solar Radiation (MJ/m2)    8760.0     0.569111    0.868746   0.0    0.00   \n",
              "Rainfall(mm)               8760.0     0.148687    1.128193   0.0    0.00   \n",
              "Snowfall (cm)              8760.0     0.075068    0.436746   0.0    0.00   \n",
              "\n",
              "                               50%      75%      max  \n",
              "Rented Bike Count           504.50  1065.25  3556.00  \n",
              "Hour                         11.50    17.25    23.00  \n",
              "Temperature(°C)              13.70    22.50    39.40  \n",
              "Humidity(%)                  57.00    74.00    98.00  \n",
              "Wind speed (m/s)              1.50     2.30     7.40  \n",
              "Visibility (10m)           1698.00  2000.00  2000.00  \n",
              "Dew point temperature(°C)     5.10    14.80    27.20  \n",
              "Solar Radiation (MJ/m2)       0.01     0.93     3.52  \n",
              "Rainfall(mm)                  0.00     0.00    35.00  \n",
              "Snowfall (cm)                 0.00     0.00     8.80  "
            ],
            "text/html": [
              "\n",
              "  <div id=\"df-ab7f9bd4-4e2a-43d7-bcf2-f96aead55e3f\">\n",
              "    <div class=\"colab-df-container\">\n",
              "      <div>\n",
              "<style scoped>\n",
              "    .dataframe tbody tr th:only-of-type {\n",
              "        vertical-align: middle;\n",
              "    }\n",
              "\n",
              "    .dataframe tbody tr th {\n",
              "        vertical-align: top;\n",
              "    }\n",
              "\n",
              "    .dataframe thead th {\n",
              "        text-align: right;\n",
              "    }\n",
              "</style>\n",
              "<table border=\"1\" class=\"dataframe\">\n",
              "  <thead>\n",
              "    <tr style=\"text-align: right;\">\n",
              "      <th></th>\n",
              "      <th>count</th>\n",
              "      <th>mean</th>\n",
              "      <th>std</th>\n",
              "      <th>min</th>\n",
              "      <th>25%</th>\n",
              "      <th>50%</th>\n",
              "      <th>75%</th>\n",
              "      <th>max</th>\n",
              "    </tr>\n",
              "  </thead>\n",
              "  <tbody>\n",
              "    <tr>\n",
              "      <th>Rented Bike Count</th>\n",
              "      <td>8760.0</td>\n",
              "      <td>704.602055</td>\n",
              "      <td>644.997468</td>\n",
              "      <td>0.0</td>\n",
              "      <td>191.00</td>\n",
              "      <td>504.50</td>\n",
              "      <td>1065.25</td>\n",
              "      <td>3556.00</td>\n",
              "    </tr>\n",
              "    <tr>\n",
              "      <th>Hour</th>\n",
              "      <td>8760.0</td>\n",
              "      <td>11.500000</td>\n",
              "      <td>6.922582</td>\n",
              "      <td>0.0</td>\n",
              "      <td>5.75</td>\n",
              "      <td>11.50</td>\n",
              "      <td>17.25</td>\n",
              "      <td>23.00</td>\n",
              "    </tr>\n",
              "    <tr>\n",
              "      <th>Temperature(°C)</th>\n",
              "      <td>8760.0</td>\n",
              "      <td>12.882922</td>\n",
              "      <td>11.944825</td>\n",
              "      <td>-17.8</td>\n",
              "      <td>3.50</td>\n",
              "      <td>13.70</td>\n",
              "      <td>22.50</td>\n",
              "      <td>39.40</td>\n",
              "    </tr>\n",
              "    <tr>\n",
              "      <th>Humidity(%)</th>\n",
              "      <td>8760.0</td>\n",
              "      <td>58.226256</td>\n",
              "      <td>20.362413</td>\n",
              "      <td>0.0</td>\n",
              "      <td>42.00</td>\n",
              "      <td>57.00</td>\n",
              "      <td>74.00</td>\n",
              "      <td>98.00</td>\n",
              "    </tr>\n",
              "    <tr>\n",
              "      <th>Wind speed (m/s)</th>\n",
              "      <td>8760.0</td>\n",
              "      <td>1.724909</td>\n",
              "      <td>1.036300</td>\n",
              "      <td>0.0</td>\n",
              "      <td>0.90</td>\n",
              "      <td>1.50</td>\n",
              "      <td>2.30</td>\n",
              "      <td>7.40</td>\n",
              "    </tr>\n",
              "    <tr>\n",
              "      <th>Visibility (10m)</th>\n",
              "      <td>8760.0</td>\n",
              "      <td>1436.825799</td>\n",
              "      <td>608.298712</td>\n",
              "      <td>27.0</td>\n",
              "      <td>940.00</td>\n",
              "      <td>1698.00</td>\n",
              "      <td>2000.00</td>\n",
              "      <td>2000.00</td>\n",
              "    </tr>\n",
              "    <tr>\n",
              "      <th>Dew point temperature(°C)</th>\n",
              "      <td>8760.0</td>\n",
              "      <td>4.073813</td>\n",
              "      <td>13.060369</td>\n",
              "      <td>-30.6</td>\n",
              "      <td>-4.70</td>\n",
              "      <td>5.10</td>\n",
              "      <td>14.80</td>\n",
              "      <td>27.20</td>\n",
              "    </tr>\n",
              "    <tr>\n",
              "      <th>Solar Radiation (MJ/m2)</th>\n",
              "      <td>8760.0</td>\n",
              "      <td>0.569111</td>\n",
              "      <td>0.868746</td>\n",
              "      <td>0.0</td>\n",
              "      <td>0.00</td>\n",
              "      <td>0.01</td>\n",
              "      <td>0.93</td>\n",
              "      <td>3.52</td>\n",
              "    </tr>\n",
              "    <tr>\n",
              "      <th>Rainfall(mm)</th>\n",
              "      <td>8760.0</td>\n",
              "      <td>0.148687</td>\n",
              "      <td>1.128193</td>\n",
              "      <td>0.0</td>\n",
              "      <td>0.00</td>\n",
              "      <td>0.00</td>\n",
              "      <td>0.00</td>\n",
              "      <td>35.00</td>\n",
              "    </tr>\n",
              "    <tr>\n",
              "      <th>Snowfall (cm)</th>\n",
              "      <td>8760.0</td>\n",
              "      <td>0.075068</td>\n",
              "      <td>0.436746</td>\n",
              "      <td>0.0</td>\n",
              "      <td>0.00</td>\n",
              "      <td>0.00</td>\n",
              "      <td>0.00</td>\n",
              "      <td>8.80</td>\n",
              "    </tr>\n",
              "  </tbody>\n",
              "</table>\n",
              "</div>\n",
              "      <button class=\"colab-df-convert\" onclick=\"convertToInteractive('df-ab7f9bd4-4e2a-43d7-bcf2-f96aead55e3f')\"\n",
              "              title=\"Convert this dataframe to an interactive table.\"\n",
              "              style=\"display:none;\">\n",
              "        \n",
              "  <svg xmlns=\"http://www.w3.org/2000/svg\" height=\"24px\"viewBox=\"0 0 24 24\"\n",
              "       width=\"24px\">\n",
              "    <path d=\"M0 0h24v24H0V0z\" fill=\"none\"/>\n",
              "    <path d=\"M18.56 5.44l.94 2.06.94-2.06 2.06-.94-2.06-.94-.94-2.06-.94 2.06-2.06.94zm-11 1L8.5 8.5l.94-2.06 2.06-.94-2.06-.94L8.5 2.5l-.94 2.06-2.06.94zm10 10l.94 2.06.94-2.06 2.06-.94-2.06-.94-.94-2.06-.94 2.06-2.06.94z\"/><path d=\"M17.41 7.96l-1.37-1.37c-.4-.4-.92-.59-1.43-.59-.52 0-1.04.2-1.43.59L10.3 9.45l-7.72 7.72c-.78.78-.78 2.05 0 2.83L4 21.41c.39.39.9.59 1.41.59.51 0 1.02-.2 1.41-.59l7.78-7.78 2.81-2.81c.8-.78.8-2.07 0-2.86zM5.41 20L4 18.59l7.72-7.72 1.47 1.35L5.41 20z\"/>\n",
              "  </svg>\n",
              "      </button>\n",
              "      \n",
              "  <style>\n",
              "    .colab-df-container {\n",
              "      display:flex;\n",
              "      flex-wrap:wrap;\n",
              "      gap: 12px;\n",
              "    }\n",
              "\n",
              "    .colab-df-convert {\n",
              "      background-color: #E8F0FE;\n",
              "      border: none;\n",
              "      border-radius: 50%;\n",
              "      cursor: pointer;\n",
              "      display: none;\n",
              "      fill: #1967D2;\n",
              "      height: 32px;\n",
              "      padding: 0 0 0 0;\n",
              "      width: 32px;\n",
              "    }\n",
              "\n",
              "    .colab-df-convert:hover {\n",
              "      background-color: #E2EBFA;\n",
              "      box-shadow: 0px 1px 2px rgba(60, 64, 67, 0.3), 0px 1px 3px 1px rgba(60, 64, 67, 0.15);\n",
              "      fill: #174EA6;\n",
              "    }\n",
              "\n",
              "    [theme=dark] .colab-df-convert {\n",
              "      background-color: #3B4455;\n",
              "      fill: #D2E3FC;\n",
              "    }\n",
              "\n",
              "    [theme=dark] .colab-df-convert:hover {\n",
              "      background-color: #434B5C;\n",
              "      box-shadow: 0px 1px 3px 1px rgba(0, 0, 0, 0.15);\n",
              "      filter: drop-shadow(0px 1px 2px rgba(0, 0, 0, 0.3));\n",
              "      fill: #FFFFFF;\n",
              "    }\n",
              "  </style>\n",
              "\n",
              "      <script>\n",
              "        const buttonEl =\n",
              "          document.querySelector('#df-ab7f9bd4-4e2a-43d7-bcf2-f96aead55e3f button.colab-df-convert');\n",
              "        buttonEl.style.display =\n",
              "          google.colab.kernel.accessAllowed ? 'block' : 'none';\n",
              "\n",
              "        async function convertToInteractive(key) {\n",
              "          const element = document.querySelector('#df-ab7f9bd4-4e2a-43d7-bcf2-f96aead55e3f');\n",
              "          const dataTable =\n",
              "            await google.colab.kernel.invokeFunction('convertToInteractive',\n",
              "                                                     [key], {});\n",
              "          if (!dataTable) return;\n",
              "\n",
              "          const docLinkHtml = 'Like what you see? Visit the ' +\n",
              "            '<a target=\"_blank\" href=https://colab.research.google.com/notebooks/data_table.ipynb>data table notebook</a>'\n",
              "            + ' to learn more about interactive tables.';\n",
              "          element.innerHTML = '';\n",
              "          dataTable['output_type'] = 'display_data';\n",
              "          await google.colab.output.renderOutput(dataTable, element);\n",
              "          const docLink = document.createElement('div');\n",
              "          docLink.innerHTML = docLinkHtml;\n",
              "          element.appendChild(docLink);\n",
              "        }\n",
              "      </script>\n",
              "    </div>\n",
              "  </div>\n",
              "  "
            ]
          },
          "metadata": {},
          "execution_count": 18
        }
      ]
    },
    {
      "cell_type": "markdown",
      "source": [
        "**Observations:**\n",
        "\n",
        "There might be outliers in 'Visibility (10m)' and 'Solar Radiation (MJ/m2)' as the difference between their mean and median is large."
      ],
      "metadata": {
        "id": "5IJeNkqysOsq"
      }
    },
    {
      "cell_type": "code",
      "source": [
        "# CHECKING FOR CORRELATION\n",
        "\n",
        "plt.figure(figsize = (10, 10))\n",
        "plt.title('--- Correlation between different features of or dataset ---', size = 15)\n",
        "sns.heatmap(df.corr(), cmap = 'coolwarm', annot = True, square = True)"
      ],
      "metadata": {
        "colab": {
          "base_uri": "https://localhost:8080/",
          "height": 690
        },
        "id": "tb_wOZQDsSpP",
        "outputId": "17f990f8-abaa-41ea-b0c2-c74fe099c2ad"
      },
      "execution_count": 19,
      "outputs": [
        {
          "output_type": "execute_result",
          "data": {
            "text/plain": [
              "<matplotlib.axes._subplots.AxesSubplot at 0x7fd9e6f8b810>"
            ]
          },
          "metadata": {},
          "execution_count": 19
        },
        {
          "output_type": "display_data",
          "data": {
            "text/plain": [
              "<Figure size 720x720 with 2 Axes>"
            ],
            "image/png": "[encoded data removed]"
          },
          "metadata": {
            "needs_background": "light"
          }
        }
      ]
    },
    {
      "cell_type": "markdown",
      "source": [
        "Observation:\n",
        "\n",
        "1. We can see that with our targer variable (Rented Bike Count), the most correlated variables are:\n",
        "\n",
        "1.Hour\n",
        "\n",
        "2.Temperature\n",
        "\n",
        "3.Dew point temperature\n",
        "\n",
        "4.solar radiation\n",
        "\n",
        "2.Dew point tempearture is highly correlated with our target variable. This can cause multicolinearity problem in future. So, we can drop it."
      ],
      "metadata": {
        "id": "pYCE90aHsZxC"
      }
    },
    {
      "cell_type": "code",
      "source": [
        "df.columns"
      ],
      "metadata": {
        "colab": {
          "base_uri": "https://localhost:8080/"
        },
        "id": "pCy2jOJHspl8",
        "outputId": "52928539-3fc1-475e-cc2f-92f1c37d23ed"
      },
      "execution_count": 20,
      "outputs": [
        {
          "output_type": "execute_result",
          "data": {
            "text/plain": [
              "Index(['Date', 'Rented Bike Count', 'Hour', 'Temperature(°C)', 'Humidity(%)',\n",
              "       'Wind speed (m/s)', 'Visibility (10m)', 'Dew point temperature(°C)',\n",
              "       'Solar Radiation (MJ/m2)', 'Rainfall(mm)', 'Snowfall (cm)', 'Seasons',\n",
              "       'Holiday', 'Functioning Day'],\n",
              "      dtype='object')"
            ]
          },
          "metadata": {},
          "execution_count": 20
        }
      ]
    },
    {
      "cell_type": "code",
      "source": [
        "# DROPPING THE COLUMN 'DEW POINT TEMPERATURE'\n",
        "\n",
        "del df['Dew point temperature(°C)']"
      ],
      "metadata": {
        "id": "qZtbSQy4sr24"
      },
      "execution_count": 21,
      "outputs": []
    },
    {
      "cell_type": "code",
      "source": [
        "df.columns"
      ],
      "metadata": {
        "colab": {
          "base_uri": "https://localhost:8080/"
        },
        "id": "GBcjBa3tsvJg",
        "outputId": "293d206f-42b2-4c55-8181-71efb6adc45a"
      },
      "execution_count": 22,
      "outputs": [
        {
          "output_type": "execute_result",
          "data": {
            "text/plain": [
              "Index(['Date', 'Rented Bike Count', 'Hour', 'Temperature(°C)', 'Humidity(%)',\n",
              "       'Wind speed (m/s)', 'Visibility (10m)', 'Solar Radiation (MJ/m2)',\n",
              "       'Rainfall(mm)', 'Snowfall (cm)', 'Seasons', 'Holiday',\n",
              "       'Functioning Day'],\n",
              "      dtype='object')"
            ]
          },
          "metadata": {},
          "execution_count": 22
        }
      ]
    },
    {
      "cell_type": "code",
      "source": [
        "df1Corr=pd.DataFrame(df.corr().unstack().sort_values(ascending=False)['Rented Bike Count'],columns=['Correlation to the target'])\n",
        "df1Corr.style.background_gradient(cmap=sns.light_palette(\"red\", as_cmap=True))"
      ],
      "metadata": {
        "colab": {
          "base_uri": "https://localhost:8080/",
          "height": 332
        },
        "id": "_YQ4gvIFt7_X",
        "outputId": "980a032e-a846-4591-c1bc-a2c530c41745"
      },
      "execution_count": 23,
      "outputs": [
        {
          "output_type": "execute_result",
          "data": {
            "text/plain": [
              "<pandas.io.formats.style.Styler at 0x7fd9e405c9d0>"
            ],
            "text/html": [
              "<style type=\"text/css\">\n",
              "#T_73b64_row0_col0 {\n",
              "  background-color: #ff0000;\n",
              "  color: #f1f1f1;\n",
              "}\n",
              "#T_73b64_row1_col0 {\n",
              "  background-color: #fa5c5c;\n",
              "  color: #f1f1f1;\n",
              "}\n",
              "#T_73b64_row2_col0 {\n",
              "  background-color: #f97676;\n",
              "  color: #f1f1f1;\n",
              "}\n",
              "#T_73b64_row3_col0 {\n",
              "  background-color: #f89494;\n",
              "  color: #000000;\n",
              "}\n",
              "#T_73b64_row4_col0 {\n",
              "  background-color: #f7a0a0;\n",
              "  color: #000000;\n",
              "}\n",
              "#T_73b64_row5_col0 {\n",
              "  background-color: #f6b0b0;\n",
              "  color: #000000;\n",
              "}\n",
              "#T_73b64_row6_col0 {\n",
              "  background-color: #f4e1e1;\n",
              "  color: #000000;\n",
              "}\n",
              "#T_73b64_row7_col0 {\n",
              "  background-color: #f3e5e5;\n",
              "  color: #000000;\n",
              "}\n",
              "#T_73b64_row8_col0 {\n",
              "  background-color: #f3f0f0;\n",
              "  color: #000000;\n",
              "}\n",
              "</style>\n",
              "<table id=\"T_73b64_\" class=\"dataframe\">\n",
              "  <thead>\n",
              "    <tr>\n",
              "      <th class=\"blank level0\" >&nbsp;</th>\n",
              "      <th class=\"col_heading level0 col0\" >Correlation to the target</th>\n",
              "    </tr>\n",
              "  </thead>\n",
              "  <tbody>\n",
              "    <tr>\n",
              "      <th id=\"T_73b64_level0_row0\" class=\"row_heading level0 row0\" >Rented Bike Count</th>\n",
              "      <td id=\"T_73b64_row0_col0\" class=\"data row0 col0\" >1.000000</td>\n",
              "    </tr>\n",
              "    <tr>\n",
              "      <th id=\"T_73b64_level0_row1\" class=\"row_heading level0 row1\" >Temperature(°C)</th>\n",
              "      <td id=\"T_73b64_row1_col0\" class=\"data row1 col0\" >0.538558</td>\n",
              "    </tr>\n",
              "    <tr>\n",
              "      <th id=\"T_73b64_level0_row2\" class=\"row_heading level0 row2\" >Hour</th>\n",
              "      <td id=\"T_73b64_row2_col0\" class=\"data row2 col0\" >0.410257</td>\n",
              "    </tr>\n",
              "    <tr>\n",
              "      <th id=\"T_73b64_level0_row3\" class=\"row_heading level0 row3\" >Solar Radiation (MJ/m2)</th>\n",
              "      <td id=\"T_73b64_row3_col0\" class=\"data row3 col0\" >0.261837</td>\n",
              "    </tr>\n",
              "    <tr>\n",
              "      <th id=\"T_73b64_level0_row4\" class=\"row_heading level0 row4\" >Visibility (10m)</th>\n",
              "      <td id=\"T_73b64_row4_col0\" class=\"data row4 col0\" >0.199280</td>\n",
              "    </tr>\n",
              "    <tr>\n",
              "      <th id=\"T_73b64_level0_row5\" class=\"row_heading level0 row5\" >Wind speed (m/s)</th>\n",
              "      <td id=\"T_73b64_row5_col0\" class=\"data row5 col0\" >0.121108</td>\n",
              "    </tr>\n",
              "    <tr>\n",
              "      <th id=\"T_73b64_level0_row6\" class=\"row_heading level0 row6\" >Rainfall(mm)</th>\n",
              "      <td id=\"T_73b64_row6_col0\" class=\"data row6 col0\" >-0.123074</td>\n",
              "    </tr>\n",
              "    <tr>\n",
              "      <th id=\"T_73b64_level0_row7\" class=\"row_heading level0 row7\" >Snowfall (cm)</th>\n",
              "      <td id=\"T_73b64_row7_col0\" class=\"data row7 col0\" >-0.141804</td>\n",
              "    </tr>\n",
              "    <tr>\n",
              "      <th id=\"T_73b64_level0_row8\" class=\"row_heading level0 row8\" >Humidity(%)</th>\n",
              "      <td id=\"T_73b64_row8_col0\" class=\"data row8 col0\" >-0.199780</td>\n",
              "    </tr>\n",
              "  </tbody>\n",
              "</table>\n"
            ]
          },
          "metadata": {},
          "execution_count": 23
        }
      ]
    },
    {
      "cell_type": "markdown",
      "source": [
        "**Data Preparation and data Visualisation**"
      ],
      "metadata": {
        "id": "gpEDNbDGuR5z"
      }
    },
    {
      "cell_type": "code",
      "source": [
        "#Creating variables\n",
        "#Variable which informs us if it is night or day\n",
        "df['label_day_night']=df['Hour'].apply(lambda x : 'Night' if (x >20 or x<5) else( 'Day'))"
      ],
      "metadata": {
        "id": "VzoVYs0WubtL"
      },
      "execution_count": 24,
      "outputs": []
    },
    {
      "cell_type": "code",
      "source": [
        "#We create a column feature which gives the day of the week and the month corresponding to the date\n",
        "df['WeekDay']=df[\"Date\"].dt.day_name()"
      ],
      "metadata": {
        "id": "opInDeewunWO"
      },
      "execution_count": 25,
      "outputs": []
    },
    {
      "cell_type": "code",
      "source": [
        "df['Month']=df['Date'].dt.month"
      ],
      "metadata": {
        "id": "HE-nT7vMusva"
      },
      "execution_count": 26,
      "outputs": []
    },
    {
      "cell_type": "markdown",
      "source": [
        "**Plotting variables to the target**"
      ],
      "metadata": {
        "id": "XqESVybKv5sv"
      }
    },
    {
      "cell_type": "code",
      "source": [
        "#On this first plot, we see a high raise between april to autumn of bikes rent\n",
        "\n",
        "df.plot(x='Date',y='Rented Bike Count',kind='line')"
      ],
      "metadata": {
        "colab": {
          "base_uri": "https://localhost:8080/",
          "height": 294
        },
        "id": "2Pu6VafcwCG9",
        "outputId": "8d2c6d5f-9068-44f7-b029-da331f739c15"
      },
      "execution_count": 27,
      "outputs": [
        {
          "output_type": "execute_result",
          "data": {
            "text/plain": [
              "<matplotlib.axes._subplots.AxesSubplot at 0x7fd9e24794d0>"
            ]
          },
          "metadata": {},
          "execution_count": 27
        },
        {
          "output_type": "display_data",
          "data": {
            "text/plain": [
              "<Figure size 432x288 with 1 Axes>"
            ],
            "image/png": "[encoded data removed]"
          },
          "metadata": {
            "needs_background": "light"
          }
        }
      ]
    },
    {
      "cell_type": "markdown",
      "source": [
        "So let's focus on the seasons where we have the most rents\n",
        "\n",
        "Observations\n",
        "1. We can see that as we expected, summer is the season in which we have the most rents."
      ],
      "metadata": {
        "id": "Fj2KT6_ewLcf"
      }
    },
    {
      "cell_type": "code",
      "source": [
        "#Let's try to understand why summer is the season with the most rents\n",
        "df1VizSeasons=pd.DataFrame(df.groupby('Seasons').sum()['Rented Bike Count'].sort_values(ascending=False))\n",
        "df1VizSeasons.style.background_gradient(cmap=sns.light_palette(\"red\", as_cmap=True))"
      ],
      "metadata": {
        "colab": {
          "base_uri": "https://localhost:8080/",
          "height": 206
        },
        "id": "I__93_dPxECh",
        "outputId": "88e69d65-bb56-49ee-f49b-ef0be5894733"
      },
      "execution_count": 28,
      "outputs": [
        {
          "output_type": "execute_result",
          "data": {
            "text/plain": [
              "<pandas.io.formats.style.Styler at 0x7fd9e2425910>"
            ],
            "text/html": [
              "<style type=\"text/css\">\n",
              "#T_17111_row0_col0 {\n",
              "  background-color: #ff0000;\n",
              "  color: #f1f1f1;\n",
              "}\n",
              "#T_17111_row1_col0 {\n",
              "  background-color: #fc4242;\n",
              "  color: #f1f1f1;\n",
              "}\n",
              "#T_17111_row2_col0 {\n",
              "  background-color: #fa5959;\n",
              "  color: #f1f1f1;\n",
              "}\n",
              "#T_17111_row3_col0 {\n",
              "  background-color: #f3f0f0;\n",
              "  color: #000000;\n",
              "}\n",
              "</style>\n",
              "<table id=\"T_17111_\" class=\"dataframe\">\n",
              "  <thead>\n",
              "    <tr>\n",
              "      <th class=\"blank level0\" >&nbsp;</th>\n",
              "      <th class=\"col_heading level0 col0\" >Rented Bike Count</th>\n",
              "    </tr>\n",
              "    <tr>\n",
              "      <th class=\"index_name level0\" >Seasons</th>\n",
              "      <th class=\"blank col0\" >&nbsp;</th>\n",
              "    </tr>\n",
              "  </thead>\n",
              "  <tbody>\n",
              "    <tr>\n",
              "      <th id=\"T_17111_level0_row0\" class=\"row_heading level0 row0\" >Summer</th>\n",
              "      <td id=\"T_17111_row0_col0\" class=\"data row0 col0\" >2283234</td>\n",
              "    </tr>\n",
              "    <tr>\n",
              "      <th id=\"T_17111_level0_row1\" class=\"row_heading level0 row1\" >Autumn</th>\n",
              "      <td id=\"T_17111_row1_col0\" class=\"data row1 col0\" >1790002</td>\n",
              "    </tr>\n",
              "    <tr>\n",
              "      <th id=\"T_17111_level0_row2\" class=\"row_heading level0 row2\" >Spring</th>\n",
              "      <td id=\"T_17111_row2_col0\" class=\"data row2 col0\" >1611909</td>\n",
              "    </tr>\n",
              "    <tr>\n",
              "      <th id=\"T_17111_level0_row3\" class=\"row_heading level0 row3\" >Winter</th>\n",
              "      <td id=\"T_17111_row3_col0\" class=\"data row3 col0\" >487169</td>\n",
              "    </tr>\n",
              "  </tbody>\n",
              "</table>\n"
            ]
          },
          "metadata": {},
          "execution_count": 28
        }
      ]
    },
    {
      "cell_type": "code",
      "source": [
        "#Let's verify that it is linked to the solar Radiation\n",
        "#This plot explains the high correlation with the feature 'solar Radiation' and 'Summer\n",
        "\n",
        "df1VizSolarRadiation=pd.DataFrame(df.groupby('Seasons').sum()['Solar Radiation (MJ/m2)'].sort_values(ascending=False))\n",
        "df1VizSolarRadiation.style.background_gradient(cmap=sns.light_palette(\"red\", as_cmap=True))"
      ],
      "metadata": {
        "colab": {
          "base_uri": "https://localhost:8080/",
          "height": 206
        },
        "id": "tDllZeFhxIOd",
        "outputId": "de402f35-2ea2-40e7-ac74-01113f2ae31e"
      },
      "execution_count": 29,
      "outputs": [
        {
          "output_type": "execute_result",
          "data": {
            "text/plain": [
              "<pandas.io.formats.style.Styler at 0x7fd9e22c6590>"
            ],
            "text/html": [
              "<style type=\"text/css\">\n",
              "#T_e1b92_row0_col0 {\n",
              "  background-color: #ff0000;\n",
              "  color: #f1f1f1;\n",
              "}\n",
              "#T_e1b92_row1_col0 {\n",
              "  background-color: #fd2525;\n",
              "  color: #f1f1f1;\n",
              "}\n",
              "#T_e1b92_row2_col0 {\n",
              "  background-color: #f97d7d;\n",
              "  color: #f1f1f1;\n",
              "}\n",
              "#T_e1b92_row3_col0 {\n",
              "  background-color: #f3f0f0;\n",
              "  color: #000000;\n",
              "}\n",
              "</style>\n",
              "<table id=\"T_e1b92_\" class=\"dataframe\">\n",
              "  <thead>\n",
              "    <tr>\n",
              "      <th class=\"blank level0\" >&nbsp;</th>\n",
              "      <th class=\"col_heading level0 col0\" >Solar Radiation (MJ/m2)</th>\n",
              "    </tr>\n",
              "    <tr>\n",
              "      <th class=\"index_name level0\" >Seasons</th>\n",
              "      <th class=\"blank col0\" >&nbsp;</th>\n",
              "    </tr>\n",
              "  </thead>\n",
              "  <tbody>\n",
              "    <tr>\n",
              "      <th id=\"T_e1b92_level0_row0\" class=\"row_heading level0 row0\" >Summer</th>\n",
              "      <td id=\"T_e1b92_row0_col0\" class=\"data row0 col0\" >1680.850000</td>\n",
              "    </tr>\n",
              "    <tr>\n",
              "      <th id=\"T_e1b92_level0_row1\" class=\"row_heading level0 row1\" >Spring</th>\n",
              "      <td id=\"T_e1b92_row1_col0\" class=\"data row1 col0\" >1520.840000</td>\n",
              "    </tr>\n",
              "    <tr>\n",
              "      <th id=\"T_e1b92_level0_row2\" class=\"row_heading level0 row2\" >Autumn</th>\n",
              "      <td id=\"T_e1b92_row2_col0\" class=\"data row2 col0\" >1139.650000</td>\n",
              "    </tr>\n",
              "    <tr>\n",
              "      <th id=\"T_e1b92_level0_row3\" class=\"row_heading level0 row3\" >Winter</th>\n",
              "      <td id=\"T_e1b92_row3_col0\" class=\"data row3 col0\" >644.070000</td>\n",
              "    </tr>\n",
              "  </tbody>\n",
              "</table>\n"
            ]
          },
          "metadata": {},
          "execution_count": 29
        }
      ]
    },
    {
      "cell_type": "code",
      "source": [
        "df.groupby('Seasons').sum()['Rented Bike Count'].plot.pie()\n"
      ],
      "metadata": {
        "colab": {
          "base_uri": "https://localhost:8080/",
          "height": 265
        },
        "id": "0UoOVkXwx1Ar",
        "outputId": "b04e239a-8528-4103-9b45-dcf1574ec59d"
      },
      "execution_count": 30,
      "outputs": [
        {
          "output_type": "execute_result",
          "data": {
            "text/plain": [
              "<matplotlib.axes._subplots.AxesSubplot at 0x7fd9e40baa10>"
            ]
          },
          "metadata": {},
          "execution_count": 30
        },
        {
          "output_type": "display_data",
          "data": {
            "text/plain": [
              "<Figure size 432x288 with 1 Axes>"
            ],
            "image/png": "[encoded data removed]"
          },
          "metadata": {}
        }
      ]
    },
    {
      "cell_type": "markdown",
      "source": [
        "Observation\n",
        "\n",
        "1.Here the amount of rented bikes is huge, when there is solar radiation, the counter of rents is around 1000"
      ],
      "metadata": {
        "id": "cghB1yI0x7xl"
      }
    },
    {
      "cell_type": "code",
      "source": [
        "df.groupby('Solar Radiation (MJ/m2)').mean()['Rented Bike Count'].plot()"
      ],
      "metadata": {
        "colab": {
          "base_uri": "https://localhost:8080/",
          "height": 296
        },
        "id": "aErQm_XbySM3",
        "outputId": "4654ccc8-8da3-439a-ab7f-f16a7295f9fa"
      },
      "execution_count": 31,
      "outputs": [
        {
          "output_type": "execute_result",
          "data": {
            "text/plain": [
              "<matplotlib.axes._subplots.AxesSubplot at 0x7fd9e2212450>"
            ]
          },
          "metadata": {},
          "execution_count": 31
        },
        {
          "output_type": "display_data",
          "data": {
            "text/plain": [
              "<Figure size 432x288 with 1 Axes>"
            ],
            "image/png": "[encoded data removed]"
          },
          "metadata": {
            "needs_background": "light"
          }
        }
      ]
    },
    {
      "cell_type": "markdown",
      "source": [
        "Observation\n",
        "\n",
        "1.Here we have a repartition of the rents by hour, at the beginning of the day we suppose people go to work and return by bike"
      ],
      "metadata": {
        "id": "8lRmNNJIyVqf"
      }
    },
    {
      "cell_type": "code",
      "source": [
        "df.groupby('Hour').sum()['Rented Bike Count'].plot.bar()\n",
        "df.groupby('Hour').sum()['Rented Bike Count'].plot()"
      ],
      "metadata": {
        "colab": {
          "base_uri": "https://localhost:8080/",
          "height": 296
        },
        "id": "fMbzhC0yycXU",
        "outputId": "99e20a80-437c-4118-f0ba-ae969fa83730"
      },
      "execution_count": 32,
      "outputs": [
        {
          "output_type": "execute_result",
          "data": {
            "text/plain": [
              "<matplotlib.axes._subplots.AxesSubplot at 0x7fd9e218fb10>"
            ]
          },
          "metadata": {},
          "execution_count": 32
        },
        {
          "output_type": "display_data",
          "data": {
            "text/plain": [
              "<Figure size 432x288 with 1 Axes>"
            ],
            "image/png": "[encoded data removed]"
          },
          "metadata": {
            "needs_background": "light"
          }
        }
      ]
    },
    {
      "cell_type": "markdown",
      "source": [
        "**Observation**\n",
        "\n",
        "Days with highest rented bike are week days.\n",
        "So we suppose people rent bikes to go to work or school"
      ],
      "metadata": {
        "id": "xu3hRhKHyu3l"
      }
    },
    {
      "cell_type": "code",
      "source": [
        "df1VizDays=pd.DataFrame(df.groupby('WeekDay').sum()['Rented Bike Count'].sort_values(ascending=False))\n",
        "df1VizDays.style.background_gradient(cmap=sns.light_palette(\"red\", as_cmap=True))"
      ],
      "metadata": {
        "colab": {
          "base_uri": "https://localhost:8080/",
          "height": 300
        },
        "id": "XOlLtePCy5_C",
        "outputId": "f07b5f01-334c-4bae-e382-caaa80cc34ac"
      },
      "execution_count": 33,
      "outputs": [
        {
          "output_type": "execute_result",
          "data": {
            "text/plain": [
              "<pandas.io.formats.style.Styler at 0x7fd9e20d1150>"
            ],
            "text/html": [
              "<style type=\"text/css\">\n",
              "#T_dfc48_row0_col0 {\n",
              "  background-color: #ff0000;\n",
              "  color: #f1f1f1;\n",
              "}\n",
              "#T_dfc48_row1_col0 {\n",
              "  background-color: #fd2525;\n",
              "  color: #f1f1f1;\n",
              "}\n",
              "#T_dfc48_row2_col0 {\n",
              "  background-color: #fc3737;\n",
              "  color: #f1f1f1;\n",
              "}\n",
              "#T_dfc48_row3_col0 {\n",
              "  background-color: #fa5b5b;\n",
              "  color: #f1f1f1;\n",
              "}\n",
              "#T_dfc48_row4_col0 {\n",
              "  background-color: #f97c7c;\n",
              "  color: #f1f1f1;\n",
              "}\n",
              "#T_dfc48_row5_col0 {\n",
              "  background-color: #f88282;\n",
              "  color: #f1f1f1;\n",
              "}\n",
              "#T_dfc48_row6_col0 {\n",
              "  background-color: #f3f0f0;\n",
              "  color: #000000;\n",
              "}\n",
              "</style>\n",
              "<table id=\"T_dfc48_\" class=\"dataframe\">\n",
              "  <thead>\n",
              "    <tr>\n",
              "      <th class=\"blank level0\" >&nbsp;</th>\n",
              "      <th class=\"col_heading level0 col0\" >Rented Bike Count</th>\n",
              "    </tr>\n",
              "    <tr>\n",
              "      <th class=\"index_name level0\" >WeekDay</th>\n",
              "      <th class=\"blank col0\" >&nbsp;</th>\n",
              "    </tr>\n",
              "  </thead>\n",
              "  <tbody>\n",
              "    <tr>\n",
              "      <th id=\"T_dfc48_level0_row0\" class=\"row_heading level0 row0\" >Friday</th>\n",
              "      <td id=\"T_dfc48_row0_col0\" class=\"data row0 col0\" >950334</td>\n",
              "    </tr>\n",
              "    <tr>\n",
              "      <th id=\"T_dfc48_level0_row1\" class=\"row_heading level0 row1\" >Wednesday</th>\n",
              "      <td id=\"T_dfc48_row1_col0\" class=\"data row1 col0\" >923956</td>\n",
              "    </tr>\n",
              "    <tr>\n",
              "      <th id=\"T_dfc48_level0_row2\" class=\"row_heading level0 row2\" >Monday</th>\n",
              "      <td id=\"T_dfc48_row2_col0\" class=\"data row2 col0\" >911743</td>\n",
              "    </tr>\n",
              "    <tr>\n",
              "      <th id=\"T_dfc48_level0_row3\" class=\"row_heading level0 row3\" >Saturday</th>\n",
              "      <td id=\"T_dfc48_row3_col0\" class=\"data row3 col0\" >885492</td>\n",
              "    </tr>\n",
              "    <tr>\n",
              "      <th id=\"T_dfc48_level0_row4\" class=\"row_heading level0 row4\" >Thursday</th>\n",
              "      <td id=\"T_dfc48_row4_col0\" class=\"data row4 col0\" >861999</td>\n",
              "    </tr>\n",
              "    <tr>\n",
              "      <th id=\"T_dfc48_level0_row5\" class=\"row_heading level0 row5\" >Tuesday</th>\n",
              "      <td id=\"T_dfc48_row5_col0\" class=\"data row5 col0\" >858596</td>\n",
              "    </tr>\n",
              "    <tr>\n",
              "      <th id=\"T_dfc48_level0_row6\" class=\"row_heading level0 row6\" >Sunday</th>\n",
              "      <td id=\"T_dfc48_row6_col0\" class=\"data row6 col0\" >780194</td>\n",
              "    </tr>\n",
              "  </tbody>\n",
              "</table>\n"
            ]
          },
          "metadata": {},
          "execution_count": 33
        }
      ]
    },
    {
      "cell_type": "markdown",
      "source": [
        "Observation\n",
        "\n",
        "1.Korean people like to ride bikes when it is pretty hot around 25°C in average"
      ],
      "metadata": {
        "id": "et709nTSy9ym"
      }
    },
    {
      "cell_type": "code",
      "source": [
        "df.groupby('Temperature(°C)').mean()['Rented Bike Count'].plot()"
      ],
      "metadata": {
        "colab": {
          "base_uri": "https://localhost:8080/",
          "height": 297
        },
        "id": "g_VJ7yujzCnO",
        "outputId": "0458ee42-7252-4b7c-c064-c838b607cb50"
      },
      "execution_count": 34,
      "outputs": [
        {
          "output_type": "execute_result",
          "data": {
            "text/plain": [
              "<matplotlib.axes._subplots.AxesSubplot at 0x7fd9e2102410>"
            ]
          },
          "metadata": {},
          "execution_count": 34
        },
        {
          "output_type": "display_data",
          "data": {
            "text/plain": [
              "<Figure size 432x288 with 1 Axes>"
            ],
            "image/png": "[encoded data removed]"
          },
          "metadata": {
            "needs_background": "light"
          }
        }
      ]
    },
    {
      "cell_type": "code",
      "source": [
        "\n",
        "#Let's see the repartition of the rents follonwing the moment of the day\n",
        "df.groupby('label_day_night').sum()['Rented Bike Count'].plot.pie()"
      ],
      "metadata": {
        "colab": {
          "base_uri": "https://localhost:8080/",
          "height": 265
        },
        "id": "QHwP1fgrzRKA",
        "outputId": "b4243069-5877-48ea-c698-0021b3d849e4"
      },
      "execution_count": 35,
      "outputs": [
        {
          "output_type": "execute_result",
          "data": {
            "text/plain": [
              "<matplotlib.axes._subplots.AxesSubplot at 0x7fd9e206a410>"
            ]
          },
          "metadata": {},
          "execution_count": 35
        },
        {
          "output_type": "display_data",
          "data": {
            "text/plain": [
              "<Figure size 432x288 with 1 Axes>"
            ],
            "image/png": "[encoded data removed]"
          },
          "metadata": {}
        }
      ]
    },
    {
      "cell_type": "markdown",
      "source": [
        "Observation\n",
        "\n",
        "1. According to this boxplot there are much more rents during the day than the night.\n",
        "2. As the median for the day is around 600 and the median for the night is around 350"
      ],
      "metadata": {
        "id": "ZygTC34zzVrf"
      }
    },
    {
      "cell_type": "code",
      "source": [
        "boxplotDay_night= df.boxplot(['Rented Bike Count'],by='label_day_night',figsize=(7,7))"
      ],
      "metadata": {
        "colab": {
          "base_uri": "https://localhost:8080/",
          "height": 481
        },
        "id": "6SgtSANo0XlL",
        "outputId": "4ee159ef-6786-491a-ed27-b17dd62ab0d7"
      },
      "execution_count": 36,
      "outputs": [
        {
          "output_type": "display_data",
          "data": {
            "text/plain": [
              "<Figure size 504x504 with 1 Axes>"
            ],
            "image/png": "[encoded data removed]"
          },
          "metadata": {
            "needs_background": "light"
          }
        }
      ]
    },
    {
      "cell_type": "markdown",
      "source": [
        "Observation\n",
        "\n",
        "It means that koreans rent bikes to go to school or work"
      ],
      "metadata": {
        "id": "dIwsdicK03jS"
      }
    },
    {
      "cell_type": "markdown",
      "source": [
        "**Let's do a visualisation during the holidays**"
      ],
      "metadata": {
        "id": "JGOCXZY60w2x"
      }
    },
    {
      "cell_type": "code",
      "source": [
        "df.groupby('Holiday').sum()['Rented Bike Count'].plot.pie(radius=0.5)"
      ],
      "metadata": {
        "colab": {
          "base_uri": "https://localhost:8080/",
          "height": 265
        },
        "id": "BqrGE8o11Ais",
        "outputId": "7bfeaae6-64e7-4759-9789-c84f0e8fdc49"
      },
      "execution_count": 37,
      "outputs": [
        {
          "output_type": "execute_result",
          "data": {
            "text/plain": [
              "<matplotlib.axes._subplots.AxesSubplot at 0x7fd9e7020b10>"
            ]
          },
          "metadata": {},
          "execution_count": 37
        },
        {
          "output_type": "display_data",
          "data": {
            "text/plain": [
              "<Figure size 432x288 with 1 Axes>"
            ],
            "image/png": "[encoded data removed]"
          },
          "metadata": {}
        }
      ]
    },
    {
      "cell_type": "markdown",
      "source": [
        "**Observation**\n",
        "\n",
        "We see that holiday rent are very low so let's see on which period extends holidays\n",
        "\n",
        "The shape of this Df is 432 lines and 16 columns, it means that there are only 18 days of holidays in Korea which is very short. And that explains why the proportion of rents during holiday is low. So we understand that this column is not that important"
      ],
      "metadata": {
        "id": "OWUgNJzy1nEg"
      }
    },
    {
      "cell_type": "code",
      "source": [
        "dfHoliday=df.loc[df['Holiday'] == 'Holiday']"
      ],
      "metadata": {
        "id": "HiZPe2Ws11M0"
      },
      "execution_count": 38,
      "outputs": []
    },
    {
      "cell_type": "code",
      "source": [
        "dfHoliday.shape"
      ],
      "metadata": {
        "colab": {
          "base_uri": "https://localhost:8080/"
        },
        "id": "4Cg2gxN813U0",
        "outputId": "a40107a2-109f-4544-9f47-5106b5e05198"
      },
      "execution_count": 39,
      "outputs": [
        {
          "output_type": "execute_result",
          "data": {
            "text/plain": [
              "(432, 16)"
            ]
          },
          "metadata": {},
          "execution_count": 39
        }
      ]
    },
    {
      "cell_type": "markdown",
      "source": [
        "Let's plot the rent of bikes following the state of the weather\n",
        "\n",
        "We can see that even if it rains a lot of korean rent bikes, here for example even if we have 20 mm of rain there is a big peak of rented bikes"
      ],
      "metadata": {
        "id": "hyXvkCZZ27XP"
      }
    },
    {
      "cell_type": "code",
      "source": [
        "df.groupby('Rainfall(mm)').mean()['Rented Bike Count'].plot()"
      ],
      "metadata": {
        "colab": {
          "base_uri": "https://localhost:8080/",
          "height": 300
        },
        "id": "BTShI5eN3AGs",
        "outputId": "daaeee5e-a08f-4876-bcff-84819207a98d"
      },
      "execution_count": 40,
      "outputs": [
        {
          "output_type": "execute_result",
          "data": {
            "text/plain": [
              "<matplotlib.axes._subplots.AxesSubplot at 0x7fd9e1f6f910>"
            ]
          },
          "metadata": {},
          "execution_count": 40
        },
        {
          "output_type": "display_data",
          "data": {
            "text/plain": [
              "<Figure size 432x288 with 1 Axes>"
            ],
            "image/png": "[encoded data removed]"
          },
          "metadata": {
            "needs_background": "light"
          }
        }
      ]
    },
    {
      "cell_type": "markdown",
      "source": [
        "Observation\n",
        "\n",
        "This raise between 20 and 25 mm of rainfall seems very contradictory, so we decide to explain this\n",
        "We can see that these days of rainfall are in the summer and the T° is not bad, furthermore theses are Week Days, that's why we have so much rented bike even if the rain is so important"
      ],
      "metadata": {
        "id": "gWcWBMwD3FL_"
      }
    },
    {
      "cell_type": "code",
      "source": [
        "df.loc[(df['Rainfall(mm)']>20)&(df['Rainfall(mm)']<25)]"
      ],
      "metadata": {
        "colab": {
          "base_uri": "https://localhost:8080/",
          "height": 294
        },
        "id": "qghlkmUw3RRC",
        "outputId": "1fef0738-37cc-43e0-a04c-8416e2abdce9"
      },
      "execution_count": 41,
      "outputs": [
        {
          "output_type": "execute_result",
          "data": {
            "text/plain": [
              "           Date  Rented Bike Count  Hour  Temperature(°C)  Humidity(%)  \\\n",
              "5034 2018-06-28                596    18             20.6           97   \n",
              "5132 2018-07-02                 61    20             23.5           97   \n",
              "6524 2018-08-29                 19    20             23.4           98   \n",
              "\n",
              "      Wind speed (m/s)  Visibility (10m)  Solar Radiation (MJ/m2)  \\\n",
              "5034               0.7               222                     0.14   \n",
              "5132               0.1              1814                     0.04   \n",
              "6524               0.6                70                     0.00   \n",
              "\n",
              "      Rainfall(mm)  Snowfall (cm) Seasons     Holiday Functioning Day  \\\n",
              "5034          21.5            0.0  Summer  No Holiday             Yes   \n",
              "5132          24.0            0.0  Summer  No Holiday             Yes   \n",
              "6524          21.0            0.0  Summer  No Holiday             Yes   \n",
              "\n",
              "     label_day_night    WeekDay  Month  \n",
              "5034             Day   Thursday      6  \n",
              "5132             Day     Monday      7  \n",
              "6524             Day  Wednesday      8  "
            ],
            "text/html": [
              "\n",
              "  <div id=\"df-8de2e930-9d7e-4094-85fb-55c32ff3f87a\">\n",
              "    <div class=\"colab-df-container\">\n",
              "      <div>\n",
              "<style scoped>\n",
              "    .dataframe tbody tr th:only-of-type {\n",
              "        vertical-align: middle;\n",
              "    }\n",
              "\n",
              "    .dataframe tbody tr th {\n",
              "        vertical-align: top;\n",
              "    }\n",
              "\n",
              "    .dataframe thead th {\n",
              "        text-align: right;\n",
              "    }\n",
              "</style>\n",
              "<table border=\"1\" class=\"dataframe\">\n",
              "  <thead>\n",
              "    <tr style=\"text-align: right;\">\n",
              "      <th></th>\n",
              "      <th>Date</th>\n",
              "      <th>Rented Bike Count</th>\n",
              "      <th>Hour</th>\n",
              "      <th>Temperature(°C)</th>\n",
              "      <th>Humidity(%)</th>\n",
              "      <th>Wind speed (m/s)</th>\n",
              "      <th>Visibility (10m)</th>\n",
              "      <th>Solar Radiation (MJ/m2)</th>\n",
              "      <th>Rainfall(mm)</th>\n",
              "      <th>Snowfall (cm)</th>\n",
              "      <th>Seasons</th>\n",
              "      <th>Holiday</th>\n",
              "      <th>Functioning Day</th>\n",
              "      <th>label_day_night</th>\n",
              "      <th>WeekDay</th>\n",
              "      <th>Month</th>\n",
              "    </tr>\n",
              "  </thead>\n",
              "  <tbody>\n",
              "    <tr>\n",
              "      <th>5034</th>\n",
              "      <td>2018-06-28</td>\n",
              "      <td>596</td>\n",
              "      <td>18</td>\n",
              "      <td>20.6</td>\n",
              "      <td>97</td>\n",
              "      <td>0.7</td>\n",
              "      <td>222</td>\n",
              "      <td>0.14</td>\n",
              "      <td>21.5</td>\n",
              "      <td>0.0</td>\n",
              "      <td>Summer</td>\n",
              "      <td>No Holiday</td>\n",
              "      <td>Yes</td>\n",
              "      <td>Day</td>\n",
              "      <td>Thursday</td>\n",
              "      <td>6</td>\n",
              "    </tr>\n",
              "    <tr>\n",
              "      <th>5132</th>\n",
              "      <td>2018-07-02</td>\n",
              "      <td>61</td>\n",
              "      <td>20</td>\n",
              "      <td>23.5</td>\n",
              "      <td>97</td>\n",
              "      <td>0.1</td>\n",
              "      <td>1814</td>\n",
              "      <td>0.04</td>\n",
              "      <td>24.0</td>\n",
              "      <td>0.0</td>\n",
              "      <td>Summer</td>\n",
              "      <td>No Holiday</td>\n",
              "      <td>Yes</td>\n",
              "      <td>Day</td>\n",
              "      <td>Monday</td>\n",
              "      <td>7</td>\n",
              "    </tr>\n",
              "    <tr>\n",
              "      <th>6524</th>\n",
              "      <td>2018-08-29</td>\n",
              "      <td>19</td>\n",
              "      <td>20</td>\n",
              "      <td>23.4</td>\n",
              "      <td>98</td>\n",
              "      <td>0.6</td>\n",
              "      <td>70</td>\n",
              "      <td>0.00</td>\n",
              "      <td>21.0</td>\n",
              "      <td>0.0</td>\n",
              "      <td>Summer</td>\n",
              "      <td>No Holiday</td>\n",
              "      <td>Yes</td>\n",
              "      <td>Day</td>\n",
              "      <td>Wednesday</td>\n",
              "      <td>8</td>\n",
              "    </tr>\n",
              "  </tbody>\n",
              "</table>\n",
              "</div>\n",
              "      <button class=\"colab-df-convert\" onclick=\"convertToInteractive('df-8de2e930-9d7e-4094-85fb-55c32ff3f87a')\"\n",
              "              title=\"Convert this dataframe to an interactive table.\"\n",
              "              style=\"display:none;\">\n",
              "        \n",
              "  <svg xmlns=\"http://www.w3.org/2000/svg\" height=\"24px\"viewBox=\"0 0 24 24\"\n",
              "       width=\"24px\">\n",
              "    <path d=\"M0 0h24v24H0V0z\" fill=\"none\"/>\n",
              "    <path d=\"M18.56 5.44l.94 2.06.94-2.06 2.06-.94-2.06-.94-.94-2.06-.94 2.06-2.06.94zm-11 1L8.5 8.5l.94-2.06 2.06-.94-2.06-.94L8.5 2.5l-.94 2.06-2.06.94zm10 10l.94 2.06.94-2.06 2.06-.94-2.06-.94-.94-2.06-.94 2.06-2.06.94z\"/><path d=\"M17.41 7.96l-1.37-1.37c-.4-.4-.92-.59-1.43-.59-.52 0-1.04.2-1.43.59L10.3 9.45l-7.72 7.72c-.78.78-.78 2.05 0 2.83L4 21.41c.39.39.9.59 1.41.59.51 0 1.02-.2 1.41-.59l7.78-7.78 2.81-2.81c.8-.78.8-2.07 0-2.86zM5.41 20L4 18.59l7.72-7.72 1.47 1.35L5.41 20z\"/>\n",
              "  </svg>\n",
              "      </button>\n",
              "      \n",
              "  <style>\n",
              "    .colab-df-container {\n",
              "      display:flex;\n",
              "      flex-wrap:wrap;\n",
              "      gap: 12px;\n",
              "    }\n",
              "\n",
              "    .colab-df-convert {\n",
              "      background-color: #E8F0FE;\n",
              "      border: none;\n",
              "      border-radius: 50%;\n",
              "      cursor: pointer;\n",
              "      display: none;\n",
              "      fill: #1967D2;\n",
              "      height: 32px;\n",
              "      padding: 0 0 0 0;\n",
              "      width: 32px;\n",
              "    }\n",
              "\n",
              "    .colab-df-convert:hover {\n",
              "      background-color: #E2EBFA;\n",
              "      box-shadow: 0px 1px 2px rgba(60, 64, 67, 0.3), 0px 1px 3px 1px rgba(60, 64, 67, 0.15);\n",
              "      fill: #174EA6;\n",
              "    }\n",
              "\n",
              "    [theme=dark] .colab-df-convert {\n",
              "      background-color: #3B4455;\n",
              "      fill: #D2E3FC;\n",
              "    }\n",
              "\n",
              "    [theme=dark] .colab-df-convert:hover {\n",
              "      background-color: #434B5C;\n",
              "      box-shadow: 0px 1px 3px 1px rgba(0, 0, 0, 0.15);\n",
              "      filter: drop-shadow(0px 1px 2px rgba(0, 0, 0, 0.3));\n",
              "      fill: #FFFFFF;\n",
              "    }\n",
              "  </style>\n",
              "\n",
              "      <script>\n",
              "        const buttonEl =\n",
              "          document.querySelector('#df-8de2e930-9d7e-4094-85fb-55c32ff3f87a button.colab-df-convert');\n",
              "        buttonEl.style.display =\n",
              "          google.colab.kernel.accessAllowed ? 'block' : 'none';\n",
              "\n",
              "        async function convertToInteractive(key) {\n",
              "          const element = document.querySelector('#df-8de2e930-9d7e-4094-85fb-55c32ff3f87a');\n",
              "          const dataTable =\n",
              "            await google.colab.kernel.invokeFunction('convertToInteractive',\n",
              "                                                     [key], {});\n",
              "          if (!dataTable) return;\n",
              "\n",
              "          const docLinkHtml = 'Like what you see? Visit the ' +\n",
              "            '<a target=\"_blank\" href=https://colab.research.google.com/notebooks/data_table.ipynb>data table notebook</a>'\n",
              "            + ' to learn more about interactive tables.';\n",
              "          element.innerHTML = '';\n",
              "          dataTable['output_type'] = 'display_data';\n",
              "          await google.colab.output.renderOutput(dataTable, element);\n",
              "          const docLink = document.createElement('div');\n",
              "          docLink.innerHTML = docLinkHtml;\n",
              "          element.appendChild(docLink);\n",
              "        }\n",
              "      </script>\n",
              "    </div>\n",
              "  </div>\n",
              "  "
            ]
          },
          "metadata": {},
          "execution_count": 41
        }
      ]
    },
    {
      "cell_type": "markdown",
      "source": [
        "We can see on the y-axis, the amount of rents is very low\n",
        "When we have more than 4 cm of snow, the bike rents is much lower"
      ],
      "metadata": {
        "id": "AxjlmHBU3mRv"
      }
    },
    {
      "cell_type": "code",
      "source": [
        "df.groupby('Snowfall (cm)').mean()['Rented Bike Count'].plot()"
      ],
      "metadata": {
        "colab": {
          "base_uri": "https://localhost:8080/",
          "height": 296
        },
        "id": "w9hOD-QE3wr4",
        "outputId": "b94c5827-ff2a-405a-af21-e2a4b5631b80"
      },
      "execution_count": 42,
      "outputs": [
        {
          "output_type": "execute_result",
          "data": {
            "text/plain": [
              "<matplotlib.axes._subplots.AxesSubplot at 0x7fd9e1ee2b50>"
            ]
          },
          "metadata": {},
          "execution_count": 42
        },
        {
          "output_type": "display_data",
          "data": {
            "text/plain": [
              "<Figure size 432x288 with 1 Axes>"
            ],
            "image/png": "[encoded data removed]"
          },
          "metadata": {
            "needs_background": "light"
          }
        }
      ]
    },
    {
      "cell_type": "markdown",
      "source": [
        "**We create the variable to encode WeekDay**"
      ],
      "metadata": {
        "id": "aU9XjKHJ31CU"
      }
    },
    {
      "cell_type": "code",
      "source": [
        "mapping_dictDay={'Monday':1,'Tuesday':2,'Wednesday':3,'Thursday':4,'Friday':5,'Saturday':6,'Sunday':7}\n",
        "\n",
        "df['WeekDayEncoding']=df['WeekDay'].map(mapping_dictDay)"
      ],
      "metadata": {
        "id": "IYYn0sfR34Ng"
      },
      "execution_count": 43,
      "outputs": []
    },
    {
      "cell_type": "markdown",
      "source": [
        "**Modelling**"
      ],
      "metadata": {
        "id": "VzD-dynP4OIY"
      }
    },
    {
      "cell_type": "markdown",
      "source": [
        "We have to keep in mind that the most correlated features to the target are :\n",
        "\n",
        "1.the hour\n",
        "\n",
        "2.the temperature\n",
        "\n",
        "3.the solar radiation\n",
        "\n",
        "We have to drop some features that are not important to our target"
      ],
      "metadata": {
        "id": "tGzjXHMj4Zf9"
      }
    },
    {
      "cell_type": "code",
      "source": [
        "from sklearn.model_selection import train_test_split\n",
        "from sklearn import preprocessing\n",
        "from sklearn import linear_model\n",
        "from sklearn.metrics import r2_score,mean_squared_error\n",
        "from sklearn.linear_model import Ridge\n",
        "from sklearn.model_selection import GridSearchCV\n",
        "from sklearn.linear_model import Lasso\n",
        "from sklearn.svm import SVR\n",
        "from sklearn.tree import DecisionTreeRegressor\n",
        "from sklearn.ensemble import RandomForestRegressor\n",
        "from sklearn.ensemble import ExtraTreesRegressor"
      ],
      "metadata": {
        "id": "HRuKoqH64lJq"
      },
      "execution_count": 44,
      "outputs": []
    },
    {
      "cell_type": "markdown",
      "source": [
        "**Let's create an object to report results**"
      ],
      "metadata": {
        "id": "BuTLgdZJ9h_N"
      }
    },
    {
      "cell_type": "code",
      "source": [
        "reporting={}"
      ],
      "metadata": {
        "id": "A5ijIkFQ-PT8"
      },
      "execution_count": 45,
      "outputs": []
    },
    {
      "cell_type": "code",
      "source": [
        "X_MultipleLinearRegression=df.drop(['Rented Bike Count','Date','Seasons','Holiday','label_day_night','Functioning Day','WeekDay'],axis =1)\n",
        "y=df.iloc[:,1] #the target"
      ],
      "metadata": {
        "id": "fukS7Ydx-R6s"
      },
      "execution_count": 46,
      "outputs": []
    },
    {
      "cell_type": "code",
      "source": [
        "X_train,X_test,y_train,y_test=train_test_split(X_MultipleLinearRegression,y,test_size=0.27)"
      ],
      "metadata": {
        "id": "HbF3qDxN-Unh"
      },
      "execution_count": 47,
      "outputs": []
    },
    {
      "cell_type": "markdown",
      "source": [
        "**Simple Linear Regression**\n",
        "\n",
        "We tried to drop some of the features of the X_train_MultipleRegression to see if the score rised but it was not the case. So we kept the feature selection with the best score Furthermore, we don't scale data in Linear Regression, but if we did we would first have to split into train and test set"
      ],
      "metadata": {
        "id": "iF09OWRk-9aF"
      }
    },
    {
      "cell_type": "code",
      "source": [
        "regr = linear_model.LinearRegression()\n",
        "fitregr=regr.fit(X_train, y_train)\n",
        "predregrtrain=fitregr.predict(X_train)\n",
        "predregrtest=fitregr.predict(X_test)"
      ],
      "metadata": {
        "id": "G8VjVUjz_C44"
      },
      "execution_count": 48,
      "outputs": []
    },
    {
      "cell_type": "code",
      "source": [
        "print('The equation of this Linear Regression has format : y= coefficient*Features + intercept')\n",
        "print('Linear model intercept: {} and the coefficients are: {}'\n",
        "     .format(fitregr.intercept_,fitregr.coef_))"
      ],
      "metadata": {
        "colab": {
          "base_uri": "https://localhost:8080/"
        },
        "id": "EGHtVLwN_F4f",
        "outputId": "55476179-4b8a-42c9-f3c7-e9bde4672dea"
      },
      "execution_count": 49,
      "outputs": [
        {
          "output_type": "stream",
          "name": "stdout",
          "text": [
            "The equation of this Linear Regression has format : y= coefficient*Features + intercept\n",
            "Linear model intercept: 459.9445509789434 and the coefficients are: [ 2.74704689e+01  3.10097078e+01 -7.56870746e+00  4.98598247e+00\n",
            "  3.42381577e-03 -7.61411506e+01 -7.39730451e+01  2.12660799e+01\n",
            "  7.76852831e+00 -1.18807610e+01]\n"
          ]
        }
      ]
    },
    {
      "cell_type": "code",
      "source": [
        "train_set_rmse = (np.sqrt(mean_squared_error(predregrtrain,y_train )))\n",
        "train_set_r2 = r2_score(y_train, predregrtrain)\n",
        "print('Linear model, R2 train score is : {} and the train root mean square is: {}'\n",
        "     .format(train_set_r2,train_set_rmse))\n",
        "\n",
        "test_set_rmse = (np.sqrt(mean_squared_error(predregrtest,y_test )))\n",
        "test_set_r2 = r2_score(y_test, predregrtest)\n",
        "print('Linear model, R2 test score is : {} and the test root mean square is: {}'\n",
        "     .format(test_set_r2,test_set_rmse))"
      ],
      "metadata": {
        "colab": {
          "base_uri": "https://localhost:8080/"
        },
        "id": "QddHvtem_JxE",
        "outputId": "d0be9548-20d5-4dc7-e374-52b10b712aa1"
      },
      "execution_count": 50,
      "outputs": [
        {
          "output_type": "stream",
          "name": "stdout",
          "text": [
            "Linear model, R2 train score is : 0.4690610252748557 and the train root mean square is: 465.8511691323172\n",
            "Linear model, R2 test score is : 0.47864736835264743 and the test root mean square is: 476.13332840794243\n"
          ]
        }
      ]
    },
    {
      "cell_type": "code",
      "source": [
        "reporting['Linear regression']=test_set_r2\n",
        "reporting"
      ],
      "metadata": {
        "colab": {
          "base_uri": "https://localhost:8080/"
        },
        "id": "qqMVatdl_NXO",
        "outputId": "07f96073-d562-4e82-fd98-71d354b0f328"
      },
      "execution_count": 92,
      "outputs": [
        {
          "output_type": "execute_result",
          "data": {
            "text/plain": [
              "{'Decision Tree Regressor': 0.7468,\n",
              " 'Lasso regression': 0.4780039301015765,\n",
              " 'Linear regression': 0.47864736835264743,\n",
              " 'Ridge regression': 0.47797085429850406}"
            ]
          },
          "metadata": {},
          "execution_count": 92
        }
      ]
    },
    {
      "cell_type": "markdown",
      "source": [
        "This is a test to predict the rented bikes following features selected :\n",
        "The order of the features in this test are :"
      ],
      "metadata": {
        "id": "AaaI7MpL_Q12"
      }
    },
    {
      "cell_type": "markdown",
      "source": [
        "[Hour (0 to 24) , Temperature (°C) , Humidity(%) , Wind speed (m/s) , Visibility(m) , Solar radiation (MJ/m2) , Rainfall(mm) , Snowfall(cm) , month(1 to 12) , WeekDay(1 to 7 : monday to Sunday)]"
      ],
      "metadata": {
        "id": "iEBpLU5MDBPN"
      }
    },
    {
      "cell_type": "code",
      "source": [
        "#fitregr.predict([[10,10,60,3,1000,0,0,2,12,1]])"
      ],
      "metadata": {
        "id": "L_EY1GllDEjl"
      },
      "execution_count": 52,
      "outputs": []
    },
    {
      "cell_type": "markdown",
      "source": [
        "**Ridge Regression**"
      ],
      "metadata": {
        "id": "pRihnGElDHkB"
      }
    },
    {
      "cell_type": "code",
      "source": [
        "X_RidgeRegression=df.drop(['Rented Bike Count','Date','Seasons','Holiday','label_day_night','Functioning Day','WeekDay'],axis =1)\n",
        "y=df.iloc[:,1] #the target\n",
        "X_train,X_test,y_train,y_test=train_test_split(X_RidgeRegression,y,test_size=0.27)"
      ],
      "metadata": {
        "id": "kR1XhSGMM72R"
      },
      "execution_count": 53,
      "outputs": []
    },
    {
      "cell_type": "markdown",
      "source": [
        "Let's test the values of the Ridge in function of the alpha value The R2 test highest value is 0.47, which is the same result as we had in the Linear Regression"
      ],
      "metadata": {
        "id": "1NUipUQSM_nU"
      }
    },
    {
      "cell_type": "code",
      "source": [
        "errors=[]\n",
        "coefs=[]\n",
        "alphas=[-2000,-1000, 0, 10, 20, 50, 6000, 1000000]\n",
        "for alpha in alphas:\n",
        "    linridge = Ridge(alpha = alpha).fit(X_train, y_train)\n",
        "    r2_train = linridge.score(X_train, y_train)\n",
        "    r2_test = linridge.score(X_test, y_test)\n",
        "    coefs.append(linridge.coef_)\n",
        "    errors.append(np.mean((linridge.predict(X_test)-y_test)**2))\n",
        "    print('Alpha = {:.2f}\\n \\\n",
        "R2 training: {:.2f}, R2 test: {:.2f}\\n'\n",
        "         .format(alpha, r2_train, r2_test))"
      ],
      "metadata": {
        "colab": {
          "base_uri": "https://localhost:8080/"
        },
        "id": "VZ0b39RsNDOz",
        "outputId": "c2ca6925-6de2-48f8-bc9b-1f9459630e4c"
      },
      "execution_count": 54,
      "outputs": [
        {
          "output_type": "stream",
          "name": "stdout",
          "text": [
            "Alpha = -2000.00\n",
            " R2 training: 0.33, R2 test: 0.35\n",
            "\n",
            "Alpha = -1000.00\n",
            " R2 training: 0.42, R2 test: 0.43\n",
            "\n",
            "Alpha = 0.00\n",
            " R2 training: 0.47, R2 test: 0.48\n",
            "\n",
            "Alpha = 10.00\n",
            " R2 training: 0.47, R2 test: 0.48\n",
            "\n",
            "Alpha = 20.00\n",
            " R2 training: 0.47, R2 test: 0.48\n",
            "\n",
            "Alpha = 50.00\n",
            " R2 training: 0.47, R2 test: 0.48\n",
            "\n",
            "Alpha = 6000.00\n",
            " R2 training: 0.46, R2 test: 0.47\n",
            "\n",
            "Alpha = 1000000.00\n",
            " R2 training: 0.32, R2 test: 0.32\n",
            "\n"
          ]
        }
      ]
    },
    {
      "cell_type": "markdown",
      "source": [
        "Grid Search on Ridge, we find the same result as the previous test"
      ],
      "metadata": {
        "id": "SjdT4T1BNHZm"
      }
    },
    {
      "cell_type": "code",
      "source": [
        "ridge=Ridge()\n",
        "#parameters={'alpha':[-10000,-6000,-100,-200, 1, 10, 20, 50,100,150,200, 600, 1000000]}\n",
        "parameters={'alpha':list(range(-300,300))}\n",
        "\n",
        "gridSearchRidge=GridSearchCV(ridge,parameters,scoring='r2',cv=3)\n",
        "gridSearchRidge.fit(X_train,y_train)"
      ],
      "metadata": {
        "colab": {
          "base_uri": "https://localhost:8080/"
        },
        "id": "U_Sflw3eNJ6X",
        "outputId": "06a03185-81cf-4509-dc43-52026be203e1"
      },
      "execution_count": 55,
      "outputs": [
        {
          "output_type": "execute_result",
          "data": {
            "text/plain": [
              "GridSearchCV(cv=3, estimator=Ridge(),\n",
              "             param_grid={'alpha': [-300, -299, -298, -297, -296, -295, -294,\n",
              "                                   -293, -292, -291, -290, -289, -288, -287,\n",
              "                                   -286, -285, -284, -283, -282, -281, -280,\n",
              "                                   -279, -278, -277, -276, -275, -274, -273,\n",
              "                                   -272, -271, ...]},\n",
              "             scoring='r2')"
            ]
          },
          "metadata": {},
          "execution_count": 55
        }
      ]
    },
    {
      "cell_type": "code",
      "source": [
        "best_ridge=gridSearchRidge.best_estimator_\n",
        "bestridge_testScore=best_ridge.score(X_test,y_test)"
      ],
      "metadata": {
        "id": "hsWcmf83NNqY"
      },
      "execution_count": 56,
      "outputs": []
    },
    {
      "cell_type": "code",
      "source": [
        "print('The best R2 train score is : {:.2f}\\n with Alpha = {:.2f}\\n \\\n",
        "'.format(gridSearchRidge.best_score_,gridSearchRidge.best_params_['alpha']))\n",
        "print('The best R2 test score is : {:.2f}\\n with Alpha = {:.2f}\\n \\\n",
        "'.format(bestridge_testScore,gridSearchRidge.best_params_['alpha']))"
      ],
      "metadata": {
        "colab": {
          "base_uri": "https://localhost:8080/"
        },
        "id": "7rKXSH9ONQ6R",
        "outputId": "2eb51b81-5861-4f38-c871-d11ffa90a18a"
      },
      "execution_count": 57,
      "outputs": [
        {
          "output_type": "stream",
          "name": "stdout",
          "text": [
            "The best R2 train score is : 0.47\n",
            " with Alpha = 203.00\n",
            " \n",
            "The best R2 test score is : 0.48\n",
            " with Alpha = 203.00\n",
            " \n"
          ]
        }
      ]
    },
    {
      "cell_type": "code",
      "source": [
        "reporting['Ridge regression']=bestridge_testScore\n",
        "reporting"
      ],
      "metadata": {
        "colab": {
          "base_uri": "https://localhost:8080/"
        },
        "id": "Di3MOI8ENUt_",
        "outputId": "111d9f42-ae4a-47b5-e73d-adf398fb9a87"
      },
      "execution_count": 91,
      "outputs": [
        {
          "output_type": "execute_result",
          "data": {
            "text/plain": [
              "{'Decision Tree Regressor': 0.7468,\n",
              " 'Lasso regression': 0.4780039301015765,\n",
              " 'Linear regression': 0.47864736835264743,\n",
              " 'Ridge regression': 0.47797085429850406}"
            ]
          },
          "metadata": {},
          "execution_count": 91
        }
      ]
    },
    {
      "cell_type": "code",
      "source": [
        "#gridSearchRidge.predict([[10,10,60,3,1000,0,0,2,12,1]])[0]"
      ],
      "metadata": {
        "id": "b7M4KkGpNW_k"
      },
      "execution_count": null,
      "outputs": []
    },
    {
      "cell_type": "markdown",
      "source": [
        "Observation\n",
        "\n",
        "We see that when alpha is very large, it tends to 0"
      ],
      "metadata": {
        "id": "D6MKpediNZIC"
      }
    },
    {
      "cell_type": "code",
      "source": [
        "ax=plt.gca()\n",
        "ax.plot(alphas,coefs)\n",
        "ax.set_xscale('log')\n",
        "ax.set_ylim(-100,100)\n",
        "plt.show()"
      ],
      "metadata": {
        "colab": {
          "base_uri": "https://localhost:8080/",
          "height": 273
        },
        "id": "iwXdrJdxNebK",
        "outputId": "b79d7858-da28-4075-d847-cac99b710493"
      },
      "execution_count": 58,
      "outputs": [
        {
          "output_type": "display_data",
          "data": {
            "text/plain": [
              "<Figure size 432x288 with 1 Axes>"
            ],
            "image/png": "[encoded data removed]"
          },
          "metadata": {
            "needs_background": "light"
          }
        }
      ]
    },
    {
      "cell_type": "markdown",
      "source": [
        "**Lasso**"
      ],
      "metadata": {
        "id": "fY0B7IsCNhh2"
      }
    },
    {
      "cell_type": "code",
      "source": [
        "errors=[]\n",
        "coefs=[]\n",
        "alphas=[-60, 0, 10, 20, 50, 6000, 1000000]\n",
        "for alpha in alphas:\n",
        "    linLasso = Lasso(alpha = alpha).fit(X_train, y_train)\n",
        "    r2_train = linLasso.score(X_train, y_train)\n",
        "    r2_test = linLasso.score(X_test, y_test)\n",
        "    coefs.append(linLasso.coef_)\n",
        "    errors.append(np.mean((linLasso.predict(X_test)-y_test)**2))\n",
        "    print('Alpha = {:.2f}\\n \\\n",
        "Lasso R2 training: {:.2f}, R2 test: {:.2f}\\n'\n",
        "         .format(alpha, r2_train, r2_test))"
      ],
      "metadata": {
        "colab": {
          "base_uri": "https://localhost:8080/"
        },
        "id": "mmdWEgwbNkP_",
        "outputId": "355d09d1-0822-4929-c2b9-0464353a3057"
      },
      "execution_count": 59,
      "outputs": [
        {
          "output_type": "stream",
          "name": "stdout",
          "text": [
            "Alpha = -60.00\n",
            " Lasso R2 training: 0.37, R2 test: 0.37\n",
            "\n",
            "Alpha = 0.00\n",
            " Lasso R2 training: 0.47, R2 test: 0.48\n",
            "\n",
            "Alpha = 10.00\n",
            " Lasso R2 training: 0.47, R2 test: 0.48\n",
            "\n",
            "Alpha = 20.00\n",
            " Lasso R2 training: 0.47, R2 test: 0.47\n",
            "\n",
            "Alpha = 50.00\n",
            " Lasso R2 training: 0.46, R2 test: 0.46\n",
            "\n",
            "Alpha = 6000.00\n",
            " Lasso R2 training: 0.04, R2 test: 0.04\n",
            "\n",
            "Alpha = 1000000.00\n",
            " Lasso R2 training: 0.00, R2 test: -0.00\n",
            "\n"
          ]
        }
      ]
    },
    {
      "cell_type": "markdown",
      "source": [
        "\n",
        "Grid Search on Lasso, we find the same result as the previous test"
      ],
      "metadata": {
        "id": "fvcxEK3kN9FA"
      }
    },
    {
      "cell_type": "code",
      "source": [
        "lasso=Lasso()\n",
        "#parameters={'alpha':[-10000,-6000,-100,-200, 1, 10, 20, 50,100,150,200, 600, 1000000]}\n",
        "parameters={'alpha':list(range(-300,300))}\n",
        "\n",
        "gridSearchLasso=GridSearchCV(lasso,parameters,scoring='r2',cv=4)\n",
        "gridSearchLasso.fit(X_train,y_train)\n",
        "\n",
        "\n",
        "\n",
        "best_Lasso=gridSearchLasso.best_estimator_\n",
        "bestLasso_testScore=best_Lasso.score(X_test,y_test)"
      ],
      "metadata": {
        "id": "SOn9KpoAN_l8"
      },
      "execution_count": 60,
      "outputs": []
    },
    {
      "cell_type": "code",
      "source": [
        "print('The best R2 train score is : {:.2f} with Alpha = {:.2f}\\n \\\n",
        "'.format(gridSearchLasso.best_score_,gridSearchLasso.best_params_['alpha']))\n",
        "print('The best R2 test score is : {:.2f}\\n with Alpha = {:.2f}\\n \\\n",
        "'.format(bestLasso_testScore,gridSearchLasso.best_params_['alpha']))"
      ],
      "metadata": {
        "colab": {
          "base_uri": "https://localhost:8080/"
        },
        "id": "xhOv1ZTjQZBW",
        "outputId": "045f29f9-bf4a-43d8-a505-9064d5fa45b1"
      },
      "execution_count": 61,
      "outputs": [
        {
          "output_type": "stream",
          "name": "stdout",
          "text": [
            "The best R2 train score is : 0.47 with Alpha = 2.00\n",
            " \n",
            "The best R2 test score is : 0.48\n",
            " with Alpha = 2.00\n",
            " \n"
          ]
        }
      ]
    },
    {
      "cell_type": "code",
      "source": [
        "reporting['Lasso regression']=(bestLasso_testScore,4)\n",
        "reporting"
      ],
      "metadata": {
        "colab": {
          "base_uri": "https://localhost:8080/"
        },
        "id": "NRu2jYn4sFqS",
        "outputId": "08761788-dfb8-405a-bb06-ac4e85e128b3"
      },
      "execution_count": 93,
      "outputs": [
        {
          "output_type": "execute_result",
          "data": {
            "text/plain": [
              "{'Decision Tree Regressor': 0.7468,\n",
              " 'Lasso regression': (0.4780039301015765, 4),\n",
              " 'Linear regression': 0.47864736835264743,\n",
              " 'Ridge regression': 0.47797085429850406}"
            ]
          },
          "metadata": {},
          "execution_count": 93
        }
      ]
    },
    {
      "cell_type": "markdown",
      "source": [
        "**Observation**\n",
        "\n",
        "We see all the coef when the alphas raise, our coeficients converge to 0"
      ],
      "metadata": {
        "id": "B5gqICSLta_h"
      }
    },
    {
      "cell_type": "code",
      "source": [
        "ax=plt.gca()\n",
        "ax.plot(alphas,coefs)\n",
        "ax.set_xscale('log')\n",
        "ax.set_ylim(-75,75)\n",
        "plt.show()"
      ],
      "metadata": {
        "colab": {
          "base_uri": "https://localhost:8080/",
          "height": 269
        },
        "id": "aHUZoZxItcYm",
        "outputId": "e92ccd08-c0f6-4759-afbf-fd6202686aad"
      },
      "execution_count": 63,
      "outputs": [
        {
          "output_type": "display_data",
          "data": {
            "text/plain": [
              "<Figure size 432x288 with 1 Axes>"
            ],
            "image/png": "[encoded data removed]"
          },
          "metadata": {
            "needs_background": "light"
          }
        }
      ]
    },
    {
      "cell_type": "markdown",
      "source": [
        "**Decision Tree Regressor**"
      ],
      "metadata": {
        "id": "7aPka3ACvIjK"
      }
    },
    {
      "cell_type": "code",
      "source": [
        "# ASSIGNING DECISION TREE REGRESSOR\n",
        "decisionTree = DecisionTreeRegressor()\n",
        "\n",
        "# SETTING PARAMETERS\n",
        "param = {'max_depth': [1,4,5,6,7,10,15,20,8]}\n",
        "\n",
        "# USING GRID SEARCH\n",
        "gridSearch_decisionTree = GridSearchCV(decisionTree, param, scoring = 'r2', cv = 6)\n",
        "gridSearch_decisionTree.fit(X_train, y_train)\n",
        "\n",
        "# GETTING BEST ESTIMATOR\n",
        "best_DecisionTree = gridSearch_decisionTree.best_estimator_\n",
        "\n",
        "# GETTING BEST SCORE\n",
        "bestDecisionTree_testScore = best_DecisionTree.score(X_test, y_test)\n",
        "\n",
        "# PRINTING THE BEST R2 AND ALPHA VALUE\n",
        "print(f\"The best R^2 score for training data is {round(gridSearch_decisionTree.best_score_, 4)}\\nwith Alpha {round(gridSearch_decisionTree.best_params_['max_depth'], 4)}\")\n",
        "print(f\"\\nThe best R^2 score for test data is {round(bestDecisionTree_testScore, 4)}\\nwith Alpha {round(gridSearch_decisionTree.best_params_['max_depth'], 4)}\")"
      ],
      "metadata": {
        "colab": {
          "base_uri": "https://localhost:8080/"
        },
        "id": "1_vuPw_EFAsH",
        "outputId": "9f771809-7707-4f11-f71f-d85aad8512d5"
      },
      "execution_count": 85,
      "outputs": [
        {
          "output_type": "stream",
          "name": "stdout",
          "text": [
            "The best R^2 score for training data is 0.7207\n",
            "with Alpha 8\n",
            "\n",
            "The best R^2 score for test data is 0.7468\n",
            "with Alpha 8\n"
          ]
        }
      ]
    },
    {
      "cell_type": "code",
      "source": [
        "reporting['Decision Tree Regressor']=round(bestDecisionTree_testScore, 4)\n",
        "reporting"
      ],
      "metadata": {
        "colab": {
          "base_uri": "https://localhost:8080/"
        },
        "id": "jerZX67FFgBz",
        "outputId": "b3b7c397-8cae-4c0a-f597-307709ee9425"
      },
      "execution_count": 94,
      "outputs": [
        {
          "output_type": "execute_result",
          "data": {
            "text/plain": [
              "{'Decision Tree Regressor': 0.7468,\n",
              " 'Lasso regression': (0.4780039301015765, 4),\n",
              " 'Linear regression': 0.47864736835264743,\n",
              " 'Ridge regression': 0.47797085429850406}"
            ]
          },
          "metadata": {},
          "execution_count": 94
        }
      ]
    },
    {
      "cell_type": "markdown",
      "source": [
        "# **Random Forest Regressor**"
      ],
      "metadata": {
        "id": "XUkVjanGHIIN"
      }
    }
  ]
}